{
 "cells": [
  {
   "cell_type": "markdown",
   "metadata": {},
   "source": [
    "# Final Project Submission\n",
    "\n",
    "* Student name: Mwenda Mugambi\n",
    "* Student pace: Part Time"
   ]
  },
  {
   "cell_type": "markdown",
   "metadata": {},
   "source": [
    "# Project Overview\n",
    "For this project, I will use exploratory data analysis on datasets from the below websites to generate insights for Microsoft \n",
    "* https://www.boxofficemojo.com/\n",
    "* https://www.imdb.com/\n",
    "* https://www.rottentomatoes.com/\n",
    "* https://www.themoviedb.org/\n",
    "* https://www.the-numbers.com/"
   ]
  },
  {
   "cell_type": "markdown",
   "metadata": {},
   "source": [
    "# Business Problem\n",
    "Microsoft sees all the big companies creating original video content and they want to get in on the fun. They have decided to create a new movie studio, but they don’t know anything about creating movies. I am charged with exploring what types of films are currently doing the best at the box office. I will then translate those findings into actionable insights that the head of Microsoft's new movie studio can use to help decide what type of films to create."
   ]
  },
  {
   "cell_type": "markdown",
   "metadata": {},
   "source": [
    "# Exploratory Data Analysis\n",
    "In this section, I'll be going through the data sets I have to understand the structure and determine the ones I'll be using for my project.\n",
    "* I start by importing the libraries and the datasets that will be necessary for the process."
   ]
  },
  {
   "cell_type": "code",
   "execution_count": 1,
   "metadata": {},
   "outputs": [],
   "source": [
    "#Importing Necessary Libraries\n",
    "import pandas as pd\n",
    "import seaborn as sns\n",
    "import matplotlib.pyplot as plt\n",
    "%matplotlib inline"
   ]
  },
  {
   "cell_type": "code",
   "execution_count": 2,
   "metadata": {},
   "outputs": [],
   "source": [
    "#loading the data sets I'll be using into Dataframes\n",
    "bom_movies = pd.read_csv(\"Datasets/bom.movie_gross.csv\")\n",
    "title_basics = pd.read_csv(\"Datasets/title.basics.csv\")\n",
    "title_akas = pd.read_csv(\"Datasets/title.akas.csv\")\n",
    "name_basics = pd.read_csv(\"Datasets/name.basics.csv\")\n",
    "movie_budgets = pd.read_csv(\"Datasets/tn.movie_budgets.csv\")\n",
    "title_crew = pd.read_csv(\"Datasets/title.crew.csv\")"
   ]
  },
  {
   "cell_type": "markdown",
   "metadata": {},
   "source": [
    "# Data Cleaning and Analysis\n",
    "In this section I do a deep dive into the datasets to understand the structure and state of the data.\n",
    "\n",
    "After understanding the data we have and the state it's in, we'll get our hands dirty and start to clean it up.\n",
    "Cleaning it is essential for us so that we can have accurate data to work with when we do a deeper analysis and get to answer some questions at the end of our analysis \n",
    "\n",
    "Let's get started."
   ]
  },
  {
   "cell_type": "markdown",
   "metadata": {},
   "source": [
    "# 1. Analyzing movie_budgets DataFrame"
   ]
  },
  {
   "cell_type": "code",
   "execution_count": 3,
   "metadata": {
    "scrolled": true
   },
   "outputs": [
    {
     "name": "stdout",
     "output_type": "stream",
     "text": [
      "<class 'pandas.core.frame.DataFrame'>\n",
      "RangeIndex: 5782 entries, 0 to 5781\n",
      "Data columns (total 6 columns):\n",
      " #   Column             Non-Null Count  Dtype \n",
      "---  ------             --------------  ----- \n",
      " 0   id                 5782 non-null   int64 \n",
      " 1   release_date       5782 non-null   object\n",
      " 2   movie              5782 non-null   object\n",
      " 3   production_budget  5782 non-null   object\n",
      " 4   domestic_gross     5782 non-null   object\n",
      " 5   worldwide_gross    5782 non-null   object\n",
      "dtypes: int64(1), object(5)\n",
      "memory usage: 271.2+ KB\n"
     ]
    }
   ],
   "source": [
    "# Getting a summary of the DataFrame's structure and content\n",
    "movie_budgets.info()"
   ]
  },
  {
   "cell_type": "code",
   "execution_count": 4,
   "metadata": {},
   "outputs": [
    {
     "data": {
      "text/html": [
       "<div>\n",
       "<style scoped>\n",
       "    .dataframe tbody tr th:only-of-type {\n",
       "        vertical-align: middle;\n",
       "    }\n",
       "\n",
       "    .dataframe tbody tr th {\n",
       "        vertical-align: top;\n",
       "    }\n",
       "\n",
       "    .dataframe thead th {\n",
       "        text-align: right;\n",
       "    }\n",
       "</style>\n",
       "<table border=\"1\" class=\"dataframe\">\n",
       "  <thead>\n",
       "    <tr style=\"text-align: right;\">\n",
       "      <th></th>\n",
       "      <th>id</th>\n",
       "      <th>release_date</th>\n",
       "      <th>movie</th>\n",
       "      <th>production_budget</th>\n",
       "      <th>domestic_gross</th>\n",
       "      <th>worldwide_gross</th>\n",
       "    </tr>\n",
       "  </thead>\n",
       "  <tbody>\n",
       "    <tr>\n",
       "      <th>0</th>\n",
       "      <td>1</td>\n",
       "      <td>Dec 18, 2009</td>\n",
       "      <td>Avatar</td>\n",
       "      <td>$425,000,000</td>\n",
       "      <td>$760,507,625</td>\n",
       "      <td>$2,776,345,279</td>\n",
       "    </tr>\n",
       "    <tr>\n",
       "      <th>1</th>\n",
       "      <td>2</td>\n",
       "      <td>May 20, 2011</td>\n",
       "      <td>Pirates of the Caribbean: On Stranger Tides</td>\n",
       "      <td>$410,600,000</td>\n",
       "      <td>$241,063,875</td>\n",
       "      <td>$1,045,663,875</td>\n",
       "    </tr>\n",
       "    <tr>\n",
       "      <th>2</th>\n",
       "      <td>3</td>\n",
       "      <td>Jun 7, 2019</td>\n",
       "      <td>Dark Phoenix</td>\n",
       "      <td>$350,000,000</td>\n",
       "      <td>$42,762,350</td>\n",
       "      <td>$149,762,350</td>\n",
       "    </tr>\n",
       "    <tr>\n",
       "      <th>3</th>\n",
       "      <td>4</td>\n",
       "      <td>May 1, 2015</td>\n",
       "      <td>Avengers: Age of Ultron</td>\n",
       "      <td>$330,600,000</td>\n",
       "      <td>$459,005,868</td>\n",
       "      <td>$1,403,013,963</td>\n",
       "    </tr>\n",
       "    <tr>\n",
       "      <th>4</th>\n",
       "      <td>5</td>\n",
       "      <td>Dec 15, 2017</td>\n",
       "      <td>Star Wars Ep. VIII: The Last Jedi</td>\n",
       "      <td>$317,000,000</td>\n",
       "      <td>$620,181,382</td>\n",
       "      <td>$1,316,721,747</td>\n",
       "    </tr>\n",
       "  </tbody>\n",
       "</table>\n",
       "</div>"
      ],
      "text/plain": [
       "   id  release_date                                        movie  \\\n",
       "0   1  Dec 18, 2009                                       Avatar   \n",
       "1   2  May 20, 2011  Pirates of the Caribbean: On Stranger Tides   \n",
       "2   3   Jun 7, 2019                                 Dark Phoenix   \n",
       "3   4   May 1, 2015                      Avengers: Age of Ultron   \n",
       "4   5  Dec 15, 2017            Star Wars Ep. VIII: The Last Jedi   \n",
       "\n",
       "  production_budget domestic_gross worldwide_gross  \n",
       "0      $425,000,000   $760,507,625  $2,776,345,279  \n",
       "1      $410,600,000   $241,063,875  $1,045,663,875  \n",
       "2      $350,000,000    $42,762,350    $149,762,350  \n",
       "3      $330,600,000   $459,005,868  $1,403,013,963  \n",
       "4      $317,000,000   $620,181,382  $1,316,721,747  "
      ]
     },
     "execution_count": 4,
     "metadata": {},
     "output_type": "execute_result"
    }
   ],
   "source": [
    "# Checking the first 5 entries in the data\n",
    "movie_budgets.head()"
   ]
  },
  {
   "cell_type": "markdown",
   "metadata": {},
   "source": [
    "#### Summary findings\n",
    "From the summary we see that \n",
    "* The dataset contains 6 columns and 5782 rows.\n",
    "* The datasets contains no missing values.\n",
    "* The production_budget, domestic_gross and worldwide_gross contains financial values which should be in integer type but seem to be object type because of the dollar sign and commas. To turn it to integers, we'll need to drop the dollar sign and comma."
   ]
  },
  {
   "cell_type": "code",
   "execution_count": 5,
   "metadata": {},
   "outputs": [
    {
     "data": {
      "text/plain": [
       "0"
      ]
     },
     "execution_count": 5,
     "metadata": {},
     "output_type": "execute_result"
    }
   ],
   "source": [
    "# Checking for duplicates\n",
    "movie_budgets.duplicated().sum()"
   ]
  },
  {
   "cell_type": "code",
   "execution_count": 6,
   "metadata": {},
   "outputs": [],
   "source": [
    "# Cleaning up the financial entries and Removing the dollar sign and comma\n",
    "for column in [\"production_budget\", \"domestic_gross\", \"worldwide_gross\"]:\n",
    "    if movie_budgets[column].dtype == \"object\":\n",
    "        movie_budgets[column] = movie_budgets[column].str.replace(\"$\", \"\").str.replace(\",\", \"\").astype(\"int64\")"
   ]
  },
  {
   "cell_type": "code",
   "execution_count": 7,
   "metadata": {},
   "outputs": [
    {
     "name": "stdout",
     "output_type": "stream",
     "text": [
      "<class 'pandas.core.frame.DataFrame'>\n",
      "RangeIndex: 5782 entries, 0 to 5781\n",
      "Data columns (total 6 columns):\n",
      " #   Column             Non-Null Count  Dtype \n",
      "---  ------             --------------  ----- \n",
      " 0   id                 5782 non-null   int64 \n",
      " 1   release_date       5782 non-null   object\n",
      " 2   movie              5782 non-null   object\n",
      " 3   production_budget  5782 non-null   int64 \n",
      " 4   domestic_gross     5782 non-null   int64 \n",
      " 5   worldwide_gross    5782 non-null   int64 \n",
      "dtypes: int64(4), object(2)\n",
      "memory usage: 271.2+ KB\n"
     ]
    }
   ],
   "source": [
    "# Confirming that the type casting has worked\n",
    "movie_budgets.info()"
   ]
  },
  {
   "cell_type": "code",
   "execution_count": 8,
   "metadata": {},
   "outputs": [],
   "source": [
    "# Dropping the \"id\" column because we don't need it.\n",
    "movie_budgets = movie_budgets.drop(\"id\", axis= 1)"
   ]
  },
  {
   "cell_type": "code",
   "execution_count": 9,
   "metadata": {},
   "outputs": [
    {
     "data": {
      "text/html": [
       "<div>\n",
       "<style scoped>\n",
       "    .dataframe tbody tr th:only-of-type {\n",
       "        vertical-align: middle;\n",
       "    }\n",
       "\n",
       "    .dataframe tbody tr th {\n",
       "        vertical-align: top;\n",
       "    }\n",
       "\n",
       "    .dataframe thead th {\n",
       "        text-align: right;\n",
       "    }\n",
       "</style>\n",
       "<table border=\"1\" class=\"dataframe\">\n",
       "  <thead>\n",
       "    <tr style=\"text-align: right;\">\n",
       "      <th></th>\n",
       "      <th>release_date</th>\n",
       "      <th>movie</th>\n",
       "      <th>production_budget</th>\n",
       "      <th>domestic_gross</th>\n",
       "      <th>worldwide_gross</th>\n",
       "    </tr>\n",
       "  </thead>\n",
       "  <tbody>\n",
       "    <tr>\n",
       "      <th>0</th>\n",
       "      <td>Dec 18, 2009</td>\n",
       "      <td>Avatar</td>\n",
       "      <td>425000000</td>\n",
       "      <td>760507625</td>\n",
       "      <td>2776345279</td>\n",
       "    </tr>\n",
       "    <tr>\n",
       "      <th>1</th>\n",
       "      <td>May 20, 2011</td>\n",
       "      <td>Pirates of the Caribbean: On Stranger Tides</td>\n",
       "      <td>410600000</td>\n",
       "      <td>241063875</td>\n",
       "      <td>1045663875</td>\n",
       "    </tr>\n",
       "    <tr>\n",
       "      <th>2</th>\n",
       "      <td>Jun 7, 2019</td>\n",
       "      <td>Dark Phoenix</td>\n",
       "      <td>350000000</td>\n",
       "      <td>42762350</td>\n",
       "      <td>149762350</td>\n",
       "    </tr>\n",
       "    <tr>\n",
       "      <th>3</th>\n",
       "      <td>May 1, 2015</td>\n",
       "      <td>Avengers: Age of Ultron</td>\n",
       "      <td>330600000</td>\n",
       "      <td>459005868</td>\n",
       "      <td>1403013963</td>\n",
       "    </tr>\n",
       "    <tr>\n",
       "      <th>4</th>\n",
       "      <td>Dec 15, 2017</td>\n",
       "      <td>Star Wars Ep. VIII: The Last Jedi</td>\n",
       "      <td>317000000</td>\n",
       "      <td>620181382</td>\n",
       "      <td>1316721747</td>\n",
       "    </tr>\n",
       "  </tbody>\n",
       "</table>\n",
       "</div>"
      ],
      "text/plain": [
       "   release_date                                        movie  \\\n",
       "0  Dec 18, 2009                                       Avatar   \n",
       "1  May 20, 2011  Pirates of the Caribbean: On Stranger Tides   \n",
       "2   Jun 7, 2019                                 Dark Phoenix   \n",
       "3   May 1, 2015                      Avengers: Age of Ultron   \n",
       "4  Dec 15, 2017            Star Wars Ep. VIII: The Last Jedi   \n",
       "\n",
       "   production_budget  domestic_gross  worldwide_gross  \n",
       "0          425000000       760507625       2776345279  \n",
       "1          410600000       241063875       1045663875  \n",
       "2          350000000        42762350        149762350  \n",
       "3          330600000       459005868       1403013963  \n",
       "4          317000000       620181382       1316721747  "
      ]
     },
     "execution_count": 9,
     "metadata": {},
     "output_type": "execute_result"
    }
   ],
   "source": [
    "# Reviewing the state\n",
    "movie_budgets.head()"
   ]
  },
  {
   "cell_type": "markdown",
   "metadata": {},
   "source": [
    "* In this state we can now do some statistics analysis for the production budget, domestic and worldwide gross to get a quick overview of the distribution and get insights into the central tendencies and distribution of the data."
   ]
  },
  {
   "cell_type": "code",
   "execution_count": 10,
   "metadata": {
    "scrolled": false
   },
   "outputs": [
    {
     "data": {
      "text/html": [
       "<div>\n",
       "<style scoped>\n",
       "    .dataframe tbody tr th:only-of-type {\n",
       "        vertical-align: middle;\n",
       "    }\n",
       "\n",
       "    .dataframe tbody tr th {\n",
       "        vertical-align: top;\n",
       "    }\n",
       "\n",
       "    .dataframe thead th {\n",
       "        text-align: right;\n",
       "    }\n",
       "</style>\n",
       "<table border=\"1\" class=\"dataframe\">\n",
       "  <thead>\n",
       "    <tr style=\"text-align: right;\">\n",
       "      <th></th>\n",
       "      <th>production_budget</th>\n",
       "      <th>domestic_gross</th>\n",
       "      <th>worldwide_gross</th>\n",
       "    </tr>\n",
       "  </thead>\n",
       "  <tbody>\n",
       "    <tr>\n",
       "      <th>count</th>\n",
       "      <td>5.782000e+03</td>\n",
       "      <td>5.782000e+03</td>\n",
       "      <td>5.782000e+03</td>\n",
       "    </tr>\n",
       "    <tr>\n",
       "      <th>mean</th>\n",
       "      <td>3.158776e+07</td>\n",
       "      <td>4.187333e+07</td>\n",
       "      <td>9.148746e+07</td>\n",
       "    </tr>\n",
       "    <tr>\n",
       "      <th>std</th>\n",
       "      <td>4.181208e+07</td>\n",
       "      <td>6.824060e+07</td>\n",
       "      <td>1.747200e+08</td>\n",
       "    </tr>\n",
       "    <tr>\n",
       "      <th>min</th>\n",
       "      <td>1.100000e+03</td>\n",
       "      <td>0.000000e+00</td>\n",
       "      <td>0.000000e+00</td>\n",
       "    </tr>\n",
       "    <tr>\n",
       "      <th>25%</th>\n",
       "      <td>5.000000e+06</td>\n",
       "      <td>1.429534e+06</td>\n",
       "      <td>4.125415e+06</td>\n",
       "    </tr>\n",
       "    <tr>\n",
       "      <th>50%</th>\n",
       "      <td>1.700000e+07</td>\n",
       "      <td>1.722594e+07</td>\n",
       "      <td>2.798445e+07</td>\n",
       "    </tr>\n",
       "    <tr>\n",
       "      <th>75%</th>\n",
       "      <td>4.000000e+07</td>\n",
       "      <td>5.234866e+07</td>\n",
       "      <td>9.764584e+07</td>\n",
       "    </tr>\n",
       "    <tr>\n",
       "      <th>max</th>\n",
       "      <td>4.250000e+08</td>\n",
       "      <td>9.366622e+08</td>\n",
       "      <td>2.776345e+09</td>\n",
       "    </tr>\n",
       "  </tbody>\n",
       "</table>\n",
       "</div>"
      ],
      "text/plain": [
       "       production_budget  domestic_gross  worldwide_gross\n",
       "count       5.782000e+03    5.782000e+03     5.782000e+03\n",
       "mean        3.158776e+07    4.187333e+07     9.148746e+07\n",
       "std         4.181208e+07    6.824060e+07     1.747200e+08\n",
       "min         1.100000e+03    0.000000e+00     0.000000e+00\n",
       "25%         5.000000e+06    1.429534e+06     4.125415e+06\n",
       "50%         1.700000e+07    1.722594e+07     2.798445e+07\n",
       "75%         4.000000e+07    5.234866e+07     9.764584e+07\n",
       "max         4.250000e+08    9.366622e+08     2.776345e+09"
      ]
     },
     "execution_count": 10,
     "metadata": {},
     "output_type": "execute_result"
    }
   ],
   "source": [
    "# Calculating descriptive statistics.\n",
    "movie_budgets.describe()"
   ]
  },
  {
   "cell_type": "code",
   "execution_count": 11,
   "metadata": {},
   "outputs": [
    {
     "name": "stdout",
     "output_type": "stream",
     "text": [
      "Max: 425000000\n",
      "Min: 1100\n",
      "Mean: 31587757.0965064\n",
      "STD: 41812076.82694309\n"
     ]
    }
   ],
   "source": [
    "print(f\"Max: {movie_budgets['production_budget'].max()}\")\n",
    "print(f\"Min: {movie_budgets['production_budget'].min()}\")\n",
    "print(f\"Mean: {movie_budgets['production_budget'].mean()}\")\n",
    "print(f\"STD: {movie_budgets['production_budget'].std()}\")"
   ]
  },
  {
   "cell_type": "code",
   "execution_count": 12,
   "metadata": {},
   "outputs": [
    {
     "name": "stdout",
     "output_type": "stream",
     "text": [
      "Max: 936662225\n",
      "Min: 0\n",
      "Mean: 41873326.867001034\n",
      "STD: 68240597.35690415\n"
     ]
    }
   ],
   "source": [
    "print(f\"Max: {movie_budgets['domestic_gross'].max()}\")\n",
    "print(f\"Min: {movie_budgets['domestic_gross'].min()}\")\n",
    "print(f\"Mean: {movie_budgets['domestic_gross'].mean()}\")\n",
    "print(f\"STD: {movie_budgets['domestic_gross'].std()}\")"
   ]
  },
  {
   "cell_type": "code",
   "execution_count": 13,
   "metadata": {
    "scrolled": true
   },
   "outputs": [
    {
     "name": "stdout",
     "output_type": "stream",
     "text": [
      "Max: 2776345279\n",
      "Min: 0\n",
      "Mean: 91487460.90643376\n",
      "STD: 174719968.77890477\n"
     ]
    }
   ],
   "source": [
    "print(f\"Max: {movie_budgets['worldwide_gross'].max()}\")\n",
    "print(f\"Min: {movie_budgets['worldwide_gross'].min()}\")\n",
    "print(f\"Mean: {movie_budgets['worldwide_gross'].mean()}\")\n",
    "print(f\"STD: {movie_budgets['worldwide_gross'].std()}\")"
   ]
  },
  {
   "cell_type": "markdown",
   "metadata": {},
   "source": [
    "### Calculating ROI\n",
    "Having turned our financial data to integers , We can now calculate the ROI of each movie using the \"worldwide_gross\" and \"production_budget\" columns to get more insights into the data."
   ]
  },
  {
   "cell_type": "code",
   "execution_count": 14,
   "metadata": {},
   "outputs": [],
   "source": [
    "# Calculating ROI and making a new column to have it asigned to the specific movies\n",
    "movie_budgets[\"ROI\"] = ((movie_budgets[\"worldwide_gross\"] - movie_budgets[\"production_budget\"]) \n",
    "                        / (movie_budgets[\"production_budget\"]) * 100)"
   ]
  },
  {
   "cell_type": "code",
   "execution_count": 15,
   "metadata": {
    "scrolled": false
   },
   "outputs": [
    {
     "data": {
      "text/html": [
       "<div>\n",
       "<style scoped>\n",
       "    .dataframe tbody tr th:only-of-type {\n",
       "        vertical-align: middle;\n",
       "    }\n",
       "\n",
       "    .dataframe tbody tr th {\n",
       "        vertical-align: top;\n",
       "    }\n",
       "\n",
       "    .dataframe thead th {\n",
       "        text-align: right;\n",
       "    }\n",
       "</style>\n",
       "<table border=\"1\" class=\"dataframe\">\n",
       "  <thead>\n",
       "    <tr style=\"text-align: right;\">\n",
       "      <th></th>\n",
       "      <th>release_date</th>\n",
       "      <th>movie</th>\n",
       "      <th>production_budget</th>\n",
       "      <th>domestic_gross</th>\n",
       "      <th>worldwide_gross</th>\n",
       "      <th>ROI</th>\n",
       "    </tr>\n",
       "  </thead>\n",
       "  <tbody>\n",
       "    <tr>\n",
       "      <th>0</th>\n",
       "      <td>Dec 18, 2009</td>\n",
       "      <td>Avatar</td>\n",
       "      <td>425000000</td>\n",
       "      <td>760507625</td>\n",
       "      <td>2776345279</td>\n",
       "      <td>553.257713</td>\n",
       "    </tr>\n",
       "    <tr>\n",
       "      <th>1</th>\n",
       "      <td>May 20, 2011</td>\n",
       "      <td>Pirates of the Caribbean: On Stranger Tides</td>\n",
       "      <td>410600000</td>\n",
       "      <td>241063875</td>\n",
       "      <td>1045663875</td>\n",
       "      <td>154.667286</td>\n",
       "    </tr>\n",
       "    <tr>\n",
       "      <th>2</th>\n",
       "      <td>Jun 7, 2019</td>\n",
       "      <td>Dark Phoenix</td>\n",
       "      <td>350000000</td>\n",
       "      <td>42762350</td>\n",
       "      <td>149762350</td>\n",
       "      <td>-57.210757</td>\n",
       "    </tr>\n",
       "    <tr>\n",
       "      <th>3</th>\n",
       "      <td>May 1, 2015</td>\n",
       "      <td>Avengers: Age of Ultron</td>\n",
       "      <td>330600000</td>\n",
       "      <td>459005868</td>\n",
       "      <td>1403013963</td>\n",
       "      <td>324.384139</td>\n",
       "    </tr>\n",
       "    <tr>\n",
       "      <th>4</th>\n",
       "      <td>Dec 15, 2017</td>\n",
       "      <td>Star Wars Ep. VIII: The Last Jedi</td>\n",
       "      <td>317000000</td>\n",
       "      <td>620181382</td>\n",
       "      <td>1316721747</td>\n",
       "      <td>315.369636</td>\n",
       "    </tr>\n",
       "  </tbody>\n",
       "</table>\n",
       "</div>"
      ],
      "text/plain": [
       "   release_date                                        movie  \\\n",
       "0  Dec 18, 2009                                       Avatar   \n",
       "1  May 20, 2011  Pirates of the Caribbean: On Stranger Tides   \n",
       "2   Jun 7, 2019                                 Dark Phoenix   \n",
       "3   May 1, 2015                      Avengers: Age of Ultron   \n",
       "4  Dec 15, 2017            Star Wars Ep. VIII: The Last Jedi   \n",
       "\n",
       "   production_budget  domestic_gross  worldwide_gross         ROI  \n",
       "0          425000000       760507625       2776345279  553.257713  \n",
       "1          410600000       241063875       1045663875  154.667286  \n",
       "2          350000000        42762350        149762350  -57.210757  \n",
       "3          330600000       459005868       1403013963  324.384139  \n",
       "4          317000000       620181382       1316721747  315.369636  "
      ]
     },
     "execution_count": 15,
     "metadata": {},
     "output_type": "execute_result"
    }
   ],
   "source": [
    "# Confirming the column has been added\n",
    "movie_budgets.head()"
   ]
  },
  {
   "cell_type": "code",
   "execution_count": 16,
   "metadata": {},
   "outputs": [
    {
     "data": {
      "text/plain": [
       "count      5782.000000\n",
       "mean        380.016137\n",
       "std        2953.028231\n",
       "min        -100.000000\n",
       "25%         -50.770440\n",
       "50%          70.830983\n",
       "75%         275.834608\n",
       "max      179900.000000\n",
       "Name: ROI, dtype: float64"
      ]
     },
     "execution_count": 16,
     "metadata": {},
     "output_type": "execute_result"
    }
   ],
   "source": [
    "# Calculating descriptive statistics of the \"ROI\" column\n",
    "movie_budgets[\"ROI\"].describe()"
   ]
  },
  {
   "cell_type": "code",
   "execution_count": 17,
   "metadata": {},
   "outputs": [
    {
     "data": {
      "text/plain": [
       "5745    Deep Throat\n",
       "Name: movie, dtype: object"
      ]
     },
     "execution_count": 17,
     "metadata": {},
     "output_type": "execute_result"
    }
   ],
   "source": [
    "# Identifying the movie with the 179900 ROI which is way of from the mean. This is an outlier that could skew our data\n",
    "# Finding the row with the maximum ROI\n",
    "max_roi_movie = movie_budgets[movie_budgets[\"ROI\"] == 179900]\n",
    "\n",
    "# Printing the movie with the maximum ROI\n",
    "max_roi_movie[\"movie\"]"
   ]
  },
  {
   "cell_type": "markdown",
   "metadata": {},
   "source": [
    "Dropping the outlier and visualizing the data to identify the movies with the positive ROIs"
   ]
  },
  {
   "cell_type": "code",
   "execution_count": 18,
   "metadata": {
    "scrolled": true
   },
   "outputs": [
    {
     "data": {
      "image/png": "[encoded data removed]",
      "text/plain": [
       "<Figure size 1152x216 with 1 Axes>"
      ]
     },
     "metadata": {
      "needs_background": "light"
     },
     "output_type": "display_data"
    }
   ],
   "source": [
    "# Dropping the outlier\n",
    "movie_budgets = movie_budgets[movie_budgets[\"movie\"] != \"Deep Throat\"]\n",
    "\n",
    "# Filtering the DataFrame to positive ROIs only because those are relevant for business decisions.\n",
    "positive_roi = movie_budgets[movie_budgets[\"ROI\"] > 0]\n",
    "\n",
    "# Sorting the data by ROI in descending order\n",
    "sorted_roi = positive_roi.sort_values(by= \"ROI\", ascending= False)\n",
    "\n",
    "# Getting the movies and corresponding ROI values for the first 10 entries\n",
    "movie_names = sorted_roi[:10][\"movie\"]\n",
    "roi = sorted_roi[:10][\"ROI\"]\n",
    "\n",
    "# Creating a bar plot\n",
    "plt.figure(figsize= (16, 3))\n",
    "plt.bar(movie_names, roi, color = \"blue\", alpha= 0.7)\n",
    "plt.xlabel(\"Movies\")\n",
    "plt.xticks(rotation= 90)\n",
    "plt.ylabel(\"ROI\")\n",
    "plt.title(\"Return on Investment for Movies\")\n",
    "plt.grid();"
   ]
  },
  {
   "cell_type": "code",
   "execution_count": 19,
   "metadata": {
    "scrolled": true
   },
   "outputs": [
    {
     "data": {
      "image/png": "[encoded data removed]",
      "text/plain": [
       "<Figure size 432x288 with 1 Axes>"
      ]
     },
     "metadata": {
      "needs_background": "light"
     },
     "output_type": "display_data"
    }
   ],
   "source": [
    "# Creating a scatter plot\n",
    "sns.scatterplot(x= \"production_budget\", y= \"ROI\", data = movie_budgets, color= \"blue\", alpha=0.7 )\n",
    "plt.xlabel(\"Production Budget\")\n",
    "plt.ylabel(\"ROI\")\n",
    "plt.title(\"Correlation Analysis: ROI vs Production Budget\");\n"
   ]
  },
  {
   "cell_type": "code",
   "execution_count": 20,
   "metadata": {},
   "outputs": [
    {
     "data": {
      "image/png": "[encoded data removed]",
      "text/plain": [
       "<Figure size 432x288 with 2 Axes>"
      ]
     },
     "metadata": {
      "needs_background": "light"
     },
     "output_type": "display_data"
    }
   ],
   "source": [
    "# Creating the heatmap\n",
    "sns.heatmap(movie_budgets.corr(), annot= True)\n",
    "plt.title(\"Correlation Heatmap: Financial Columns\");"
   ]
  },
  {
   "cell_type": "markdown",
   "metadata": {},
   "source": [
    "#### Key Findings\n",
    "In this section, we see that \n",
    "* There seems to be a a strong positive correlation between the \"production_budget\" and \"worldwide_gross\" This however does not necessarily indicate cause-and-effect. We will do further analysis to understand it better.\n",
    "* The correlation between \"ROI\" and \"production_budget\" is close to zero, indicating a weak negative correlation relationship between the two. Implying that when production budget increases, the ROI tends to decrease slightly.\n",
    "* From the sample data of the positive ROIs, Mad Max, Paranormal Activity, The Gallows, The Blair Witch Project and Super Size Me have the highest ROIs."
   ]
  },
  {
   "cell_type": "markdown",
   "metadata": {},
   "source": [
    "# 2. Analyzing bom_movies DataFrame\n"
   ]
  },
  {
   "cell_type": "code",
   "execution_count": 21,
   "metadata": {},
   "outputs": [
    {
     "name": "stdout",
     "output_type": "stream",
     "text": [
      "<class 'pandas.core.frame.DataFrame'>\n",
      "RangeIndex: 3387 entries, 0 to 3386\n",
      "Data columns (total 5 columns):\n",
      " #   Column          Non-Null Count  Dtype  \n",
      "---  ------          --------------  -----  \n",
      " 0   title           3387 non-null   object \n",
      " 1   studio          3382 non-null   object \n",
      " 2   domestic_gross  3359 non-null   float64\n",
      " 3   foreign_gross   2037 non-null   object \n",
      " 4   year            3387 non-null   int64  \n",
      "dtypes: float64(1), int64(1), object(3)\n",
      "memory usage: 132.4+ KB\n"
     ]
    }
   ],
   "source": [
    "# Getting a summary of the DataFrame's structure and content.\n",
    "bom_movies.info()"
   ]
  },
  {
   "cell_type": "code",
   "execution_count": 22,
   "metadata": {
    "scrolled": true
   },
   "outputs": [
    {
     "data": {
      "text/html": [
       "<div>\n",
       "<style scoped>\n",
       "    .dataframe tbody tr th:only-of-type {\n",
       "        vertical-align: middle;\n",
       "    }\n",
       "\n",
       "    .dataframe tbody tr th {\n",
       "        vertical-align: top;\n",
       "    }\n",
       "\n",
       "    .dataframe thead th {\n",
       "        text-align: right;\n",
       "    }\n",
       "</style>\n",
       "<table border=\"1\" class=\"dataframe\">\n",
       "  <thead>\n",
       "    <tr style=\"text-align: right;\">\n",
       "      <th></th>\n",
       "      <th>title</th>\n",
       "      <th>studio</th>\n",
       "      <th>domestic_gross</th>\n",
       "      <th>foreign_gross</th>\n",
       "      <th>year</th>\n",
       "    </tr>\n",
       "  </thead>\n",
       "  <tbody>\n",
       "    <tr>\n",
       "      <th>0</th>\n",
       "      <td>Toy Story 3</td>\n",
       "      <td>BV</td>\n",
       "      <td>415000000.0</td>\n",
       "      <td>652000000</td>\n",
       "      <td>2010</td>\n",
       "    </tr>\n",
       "    <tr>\n",
       "      <th>1</th>\n",
       "      <td>Alice in Wonderland (2010)</td>\n",
       "      <td>BV</td>\n",
       "      <td>334200000.0</td>\n",
       "      <td>691300000</td>\n",
       "      <td>2010</td>\n",
       "    </tr>\n",
       "    <tr>\n",
       "      <th>2</th>\n",
       "      <td>Harry Potter and the Deathly Hallows Part 1</td>\n",
       "      <td>WB</td>\n",
       "      <td>296000000.0</td>\n",
       "      <td>664300000</td>\n",
       "      <td>2010</td>\n",
       "    </tr>\n",
       "    <tr>\n",
       "      <th>3</th>\n",
       "      <td>Inception</td>\n",
       "      <td>WB</td>\n",
       "      <td>292600000.0</td>\n",
       "      <td>535700000</td>\n",
       "      <td>2010</td>\n",
       "    </tr>\n",
       "    <tr>\n",
       "      <th>4</th>\n",
       "      <td>Shrek Forever After</td>\n",
       "      <td>P/DW</td>\n",
       "      <td>238700000.0</td>\n",
       "      <td>513900000</td>\n",
       "      <td>2010</td>\n",
       "    </tr>\n",
       "  </tbody>\n",
       "</table>\n",
       "</div>"
      ],
      "text/plain": [
       "                                         title studio  domestic_gross  \\\n",
       "0                                  Toy Story 3     BV     415000000.0   \n",
       "1                   Alice in Wonderland (2010)     BV     334200000.0   \n",
       "2  Harry Potter and the Deathly Hallows Part 1     WB     296000000.0   \n",
       "3                                    Inception     WB     292600000.0   \n",
       "4                          Shrek Forever After   P/DW     238700000.0   \n",
       "\n",
       "  foreign_gross  year  \n",
       "0     652000000  2010  \n",
       "1     691300000  2010  \n",
       "2     664300000  2010  \n",
       "3     535700000  2010  \n",
       "4     513900000  2010  "
      ]
     },
     "execution_count": 22,
     "metadata": {},
     "output_type": "execute_result"
    }
   ],
   "source": [
    "# Checking the first 5 entries in the data\n",
    "bom_movies.head()"
   ]
  },
  {
   "cell_type": "markdown",
   "metadata": {},
   "source": [
    "#### Summary findings\n",
    "From the summary we see that \n",
    "* The dataset contains 5 columns (Title, Studio, domestic_gross, foreign_gross, Year ) and 3387 rows.\n",
    "* We see that we have some missing values in some of the columns.\n",
    "* The foreign_gross column should be integers but is in object type instead which implies it's a string.\n",
    "* With this data, we should be able to check the movie performance of the different studios domestically and foreign."
   ]
  },
  {
   "cell_type": "code",
   "execution_count": 23,
   "metadata": {},
   "outputs": [
    {
     "data": {
      "text/plain": [
       "0"
      ]
     },
     "execution_count": 23,
     "metadata": {},
     "output_type": "execute_result"
    }
   ],
   "source": [
    "# Checking for duplicates\n",
    "bom_movies.duplicated().sum()"
   ]
  },
  {
   "cell_type": "markdown",
   "metadata": {},
   "source": [
    "* We start by dropping the missing values in \"studio\" and \"domestic_gross\" since they are not that many and won't affect our analysis.\n",
    "* For the foreign_gross data, we fill the missing values with 0 intead of dropping because dropping the 1349 missing values would affect the accuracy of our analysis between the studio and domestic_gross."
   ]
  },
  {
   "cell_type": "code",
   "execution_count": 24,
   "metadata": {},
   "outputs": [],
   "source": [
    "# Dropping the rows with null values on the studio and domestic_gross column\n",
    "bom_movies.dropna(subset=[\"studio\"], inplace=True)\n",
    "bom_movies.dropna(subset=[\"domestic_gross\"], inplace=True)\n",
    "\n",
    "# Filling the missing values in foreign_gross with 0\n",
    "bom_movies.fillna(0, inplace=True)"
   ]
  },
  {
   "cell_type": "markdown",
   "metadata": {},
   "source": [
    "We then confirm if our strategy to deal with the missing values worked."
   ]
  },
  {
   "cell_type": "code",
   "execution_count": 25,
   "metadata": {
    "scrolled": true
   },
   "outputs": [
    {
     "data": {
      "text/plain": [
       "title             0\n",
       "studio            0\n",
       "domestic_gross    0\n",
       "foreign_gross     0\n",
       "year              0\n",
       "dtype: int64"
      ]
     },
     "execution_count": 25,
     "metadata": {},
     "output_type": "execute_result"
    }
   ],
   "source": [
    "# Cheking if our cleaning worked\n",
    "bom_movies.isna().sum()"
   ]
  },
  {
   "cell_type": "markdown",
   "metadata": {},
   "source": [
    "### Now we convert them to the correct datatypes"
   ]
  },
  {
   "cell_type": "code",
   "execution_count": 26,
   "metadata": {},
   "outputs": [
    {
     "data": {
      "text/plain": [
       "title              object\n",
       "studio             object\n",
       "domestic_gross    float64\n",
       "foreign_gross     float64\n",
       "year                int64\n",
       "dtype: object"
      ]
     },
     "execution_count": 26,
     "metadata": {},
     "output_type": "execute_result"
    }
   ],
   "source": [
    "# Converting data in \"foreign_gross\" column to integers\n",
    "bom_movies[\"foreign_gross\"] = pd.to_numeric(bom_movies[\"foreign_gross\"], errors= \"coerce\")\n",
    "\n",
    "# Confirming the changes\n",
    "bom_movies.dtypes"
   ]
  },
  {
   "cell_type": "code",
   "execution_count": 27,
   "metadata": {
    "scrolled": false
   },
   "outputs": [
    {
     "name": "stdout",
     "output_type": "stream",
     "text": [
      "<class 'pandas.core.frame.DataFrame'>\n",
      "Int64Index: 3356 entries, 0 to 3386\n",
      "Data columns (total 5 columns):\n",
      " #   Column          Non-Null Count  Dtype  \n",
      "---  ------          --------------  -----  \n",
      " 0   title           3356 non-null   object \n",
      " 1   studio          3356 non-null   object \n",
      " 2   domestic_gross  3356 non-null   float64\n",
      " 3   foreign_gross   3356 non-null   float64\n",
      " 4   year            3356 non-null   int64  \n",
      "dtypes: float64(2), int64(1), object(2)\n",
      "memory usage: 157.3+ KB\n"
     ]
    }
   ],
   "source": [
    "bom_movies.fillna(0, inplace= True)\n",
    "bom_movies.info()"
   ]
  },
  {
   "cell_type": "code",
   "execution_count": 28,
   "metadata": {},
   "outputs": [
    {
     "data": {
      "text/plain": [
       "title             0\n",
       "studio            0\n",
       "domestic_gross    0\n",
       "foreign_gross     0\n",
       "year              0\n",
       "dtype: int64"
      ]
     },
     "execution_count": 28,
     "metadata": {},
     "output_type": "execute_result"
    }
   ],
   "source": [
    "# Confirming if our strategy to clean the data worked. \n",
    "bom_movies.isna().sum()"
   ]
  },
  {
   "cell_type": "markdown",
   "metadata": {},
   "source": [
    "### Bar graph to look at the relationship between studios and Domestic gross"
   ]
  },
  {
   "cell_type": "code",
   "execution_count": 29,
   "metadata": {
    "scrolled": true
   },
   "outputs": [
    {
     "data": {
      "image/png": "[encoded data removed]",
      "text/plain": [
       "<Figure size 1152x288 with 1 Axes>"
      ]
     },
     "metadata": {
      "needs_background": "light"
     },
     "output_type": "display_data"
    }
   ],
   "source": [
    "# Getting the studio names and domestic_gross for the first 800 entries\n",
    "# Sorting the values by domestic_gross \n",
    "sorted_data = bom_movies.sort_values(\"domestic_gross\", ascending=False)\n",
    "\n",
    "\n",
    "studio = sorted_data[\"studio\"][:800]\n",
    "domestic_gross = sorted_data[\"domestic_gross\"][:800]\n",
    "\n",
    "# Creating a  bar plot\n",
    "plt.figure(figsize= (16, 4))\n",
    "plt.bar(studio, domestic_gross, color = \"magenta\")\n",
    "plt.xlabel(\"studio\")\n",
    "plt.xticks(rotation= 90)\n",
    "plt.ylabel(\"domestic_gross\")\n",
    "plt.title(\"Domestic gross per studio\")\n",
    "plt.grid()\n",
    "plt.tight_layout();"
   ]
  },
  {
   "cell_type": "markdown",
   "metadata": {},
   "source": [
    "### Bar graph to look at the relationship between studios and Foreign gross"
   ]
  },
  {
   "cell_type": "code",
   "execution_count": 30,
   "metadata": {
    "scrolled": true
   },
   "outputs": [
    {
     "data": {
      "image/png": "[encoded data removed]",
      "text/plain": [
       "<Figure size 1152x288 with 1 Axes>"
      ]
     },
     "metadata": {
      "needs_background": "light"
     },
     "output_type": "display_data"
    }
   ],
   "source": [
    "# Getting the studio names and foreign_gross for the first 600 entries\n",
    "# Sorting the values by foreign_gross \n",
    "sorted_data = bom_movies.sort_values(\"foreign_gross\", ascending=False)\n",
    "\n",
    "studio = sorted_data[\"studio\"][:600]\n",
    "domestic_gross = sorted_data[\"foreign_gross\"][:600]\n",
    "\n",
    "# Creating a bar plot\n",
    "plt.figure(figsize= (16, 4))\n",
    "plt.bar(studio, domestic_gross, color = \"magenta\")\n",
    "plt.xlabel(\"studio\")\n",
    "plt.xticks(rotation= 90)\n",
    "plt.ylabel(\"foreign_gross\")\n",
    "plt.title(\"foreign gross per studio\")\n",
    "plt.grid();"
   ]
  },
  {
   "cell_type": "markdown",
   "metadata": {},
   "source": [
    "### Heatmap to look at the correlation between domestic gross and Foreign gross"
   ]
  },
  {
   "cell_type": "code",
   "execution_count": 31,
   "metadata": {},
   "outputs": [
    {
     "data": {
      "image/png": "[encoded data removed]",
      "text/plain": [
       "<Figure size 432x288 with 2 Axes>"
      ]
     },
     "metadata": {
      "needs_background": "light"
     },
     "output_type": "display_data"
    }
   ],
   "source": [
    "# Creating a heatmap\n",
    "sns.heatmap(bom_movies.corr(), annot=True, cmap=\"coolwarm\")\n",
    "plt.title(\"Correlation Heatmap: bom_movies\");"
   ]
  },
  {
   "cell_type": "markdown",
   "metadata": {},
   "source": [
    "### Scatterplot to confirm at the correlation between domestic gross and Foreign gross"
   ]
  },
  {
   "cell_type": "code",
   "execution_count": 32,
   "metadata": {
    "scrolled": true
   },
   "outputs": [
    {
     "data": {
      "image/png": "[encoded data removed]",
      "text/plain": [
       "<Figure size 432x288 with 1 Axes>"
      ]
     },
     "metadata": {
      "needs_background": "light"
     },
     "output_type": "display_data"
    }
   ],
   "source": [
    "# Creating a scatter plot\n",
    "sns.scatterplot(x= \"domestic_gross\", y= \"foreign_gross\", data = bom_movies, color= \"magenta\" )\n",
    "plt.xlabel(\"domestic_gross\")\n",
    "plt.ylabel(\"foreign_gross\")\n",
    "plt.title(\"Corr domestic_gross vs foreign_gross\");"
   ]
  },
  {
   "cell_type": "markdown",
   "metadata": {},
   "source": [
    "#### Findings\n",
    "From the summary we see that \n",
    "* Studios with the highest domestic gross are \"BV\" , \"Uni\", \"WB\", \"LGF\" and \"Sony\"\n",
    "* Studios with the highest foreign gross are \"WB\", \"BV\", \"Uni\", \"HC\" and \"Par\"\n",
    "* There seems to be a a strong positive correlation between the \"domestic_gross\" and \"foreign_gross\".\n",
    "* Studios seem to have better \"foreign_gross\" than \"domestic gross\" - This is expected as domestic refers to sales in one country while foreign is sales from multiple countries outside where the studios are based."
   ]
  },
  {
   "cell_type": "markdown",
   "metadata": {},
   "source": [
    "# 3.  Analyzing title_akas DataFrame\n"
   ]
  },
  {
   "cell_type": "code",
   "execution_count": 33,
   "metadata": {
    "scrolled": true
   },
   "outputs": [
    {
     "name": "stdout",
     "output_type": "stream",
     "text": [
      "<class 'pandas.core.frame.DataFrame'>\n",
      "RangeIndex: 331703 entries, 0 to 331702\n",
      "Data columns (total 8 columns):\n",
      " #   Column             Non-Null Count   Dtype  \n",
      "---  ------             --------------   -----  \n",
      " 0   title_id           331703 non-null  object \n",
      " 1   ordering           331703 non-null  int64  \n",
      " 2   title              331703 non-null  object \n",
      " 3   region             278410 non-null  object \n",
      " 4   language           41715 non-null   object \n",
      " 5   types              168447 non-null  object \n",
      " 6   attributes         14925 non-null   object \n",
      " 7   is_original_title  331678 non-null  float64\n",
      "dtypes: float64(1), int64(1), object(6)\n",
      "memory usage: 20.2+ MB\n"
     ]
    }
   ],
   "source": [
    "#Getting a summary of the DataFrame's structure and content\n",
    "title_akas.info()"
   ]
  },
  {
   "cell_type": "code",
   "execution_count": 34,
   "metadata": {},
   "outputs": [
    {
     "data": {
      "text/html": [
       "<div>\n",
       "<style scoped>\n",
       "    .dataframe tbody tr th:only-of-type {\n",
       "        vertical-align: middle;\n",
       "    }\n",
       "\n",
       "    .dataframe tbody tr th {\n",
       "        vertical-align: top;\n",
       "    }\n",
       "\n",
       "    .dataframe thead th {\n",
       "        text-align: right;\n",
       "    }\n",
       "</style>\n",
       "<table border=\"1\" class=\"dataframe\">\n",
       "  <thead>\n",
       "    <tr style=\"text-align: right;\">\n",
       "      <th></th>\n",
       "      <th>title_id</th>\n",
       "      <th>ordering</th>\n",
       "      <th>title</th>\n",
       "      <th>region</th>\n",
       "      <th>language</th>\n",
       "      <th>types</th>\n",
       "      <th>attributes</th>\n",
       "      <th>is_original_title</th>\n",
       "    </tr>\n",
       "  </thead>\n",
       "  <tbody>\n",
       "    <tr>\n",
       "      <th>246598</th>\n",
       "      <td>tt5305230</td>\n",
       "      <td>1</td>\n",
       "      <td>CzechMate: In Search of Jirí Menzel</td>\n",
       "      <td>IN</td>\n",
       "      <td>NaN</td>\n",
       "      <td>NaN</td>\n",
       "      <td>NaN</td>\n",
       "      <td>0.0</td>\n",
       "    </tr>\n",
       "    <tr>\n",
       "      <th>27332</th>\n",
       "      <td>tt1336608</td>\n",
       "      <td>1</td>\n",
       "      <td>La era del rock</td>\n",
       "      <td>CO</td>\n",
       "      <td>NaN</td>\n",
       "      <td>imdbDisplay</td>\n",
       "      <td>NaN</td>\n",
       "      <td>0.0</td>\n",
       "    </tr>\n",
       "    <tr>\n",
       "      <th>256190</th>\n",
       "      <td>tt6343744</td>\n",
       "      <td>1</td>\n",
       "      <td>Death of the Sheik</td>\n",
       "      <td>US</td>\n",
       "      <td>NaN</td>\n",
       "      <td>NaN</td>\n",
       "      <td>NaN</td>\n",
       "      <td>0.0</td>\n",
       "    </tr>\n",
       "    <tr>\n",
       "      <th>2841</th>\n",
       "      <td>tt10330046</td>\n",
       "      <td>2</td>\n",
       "      <td>Stus</td>\n",
       "      <td>UA</td>\n",
       "      <td>NaN</td>\n",
       "      <td>working</td>\n",
       "      <td>NaN</td>\n",
       "      <td>0.0</td>\n",
       "    </tr>\n",
       "    <tr>\n",
       "      <th>316774</th>\n",
       "      <td>tt4693606</td>\n",
       "      <td>1</td>\n",
       "      <td>Tskhra mtas iqit</td>\n",
       "      <td>NaN</td>\n",
       "      <td>NaN</td>\n",
       "      <td>original</td>\n",
       "      <td>NaN</td>\n",
       "      <td>1.0</td>\n",
       "    </tr>\n",
       "  </tbody>\n",
       "</table>\n",
       "</div>"
      ],
      "text/plain": [
       "          title_id  ordering                                title region  \\\n",
       "246598   tt5305230         1  CzechMate: In Search of Jirí Menzel     IN   \n",
       "27332    tt1336608         1                      La era del rock     CO   \n",
       "256190   tt6343744         1                   Death of the Sheik     US   \n",
       "2841    tt10330046         2                                 Stus     UA   \n",
       "316774   tt4693606         1                     Tskhra mtas iqit    NaN   \n",
       "\n",
       "       language        types attributes  is_original_title  \n",
       "246598      NaN          NaN        NaN                0.0  \n",
       "27332       NaN  imdbDisplay        NaN                0.0  \n",
       "256190      NaN          NaN        NaN                0.0  \n",
       "2841        NaN      working        NaN                0.0  \n",
       "316774      NaN     original        NaN                1.0  "
      ]
     },
     "execution_count": 34,
     "metadata": {},
     "output_type": "execute_result"
    }
   ],
   "source": [
    "#Getting a sample of the data \n",
    "title_akas.sample(5)"
   ]
  },
  {
   "cell_type": "markdown",
   "metadata": {},
   "source": [
    "#### Summary findings\n",
    "From the summary we see that \n",
    "* The \"title_akas\" dataset contains \"ordering\", \"title\", \"region\", \"language\", \"types\", \"attributes\"  and \"is_original_title\" columns. \n",
    "* The dataset contains 8 columns and 331703 rows.\n",
    "* The \"title_id\",  \"ordering\" and \"title\" columns don't have any missing values, but the rest do.\n",
    "* With this data, we should be able to confirm if the \"title_id\" identifies Movie names in the \"title\" column."
   ]
  },
  {
   "cell_type": "markdown",
   "metadata": {},
   "source": [
    "Since we want to work with \"title_id\" and \"title\" we can go on and clean the others."
   ]
  },
  {
   "cell_type": "code",
   "execution_count": 35,
   "metadata": {},
   "outputs": [
    {
     "data": {
      "text/plain": [
       "title_id                  0\n",
       "ordering                  0\n",
       "title                     0\n",
       "region                53293\n",
       "language             289988\n",
       "types                163256\n",
       "attributes           316778\n",
       "is_original_title        25\n",
       "dtype: int64"
      ]
     },
     "execution_count": 35,
     "metadata": {},
     "output_type": "execute_result"
    }
   ],
   "source": [
    "#Checking the number of missing values in the columns.\n",
    "title_akas.isna().sum()"
   ]
  },
  {
   "cell_type": "markdown",
   "metadata": {},
   "source": [
    "From this analysis, we can drop the language types and attributes columns which have too many missing values. Without context we can't go on to filling the missing values."
   ]
  },
  {
   "cell_type": "code",
   "execution_count": 36,
   "metadata": {},
   "outputs": [
    {
     "data": {
      "text/html": [
       "<div>\n",
       "<style scoped>\n",
       "    .dataframe tbody tr th:only-of-type {\n",
       "        vertical-align: middle;\n",
       "    }\n",
       "\n",
       "    .dataframe tbody tr th {\n",
       "        vertical-align: top;\n",
       "    }\n",
       "\n",
       "    .dataframe thead th {\n",
       "        text-align: right;\n",
       "    }\n",
       "</style>\n",
       "<table border=\"1\" class=\"dataframe\">\n",
       "  <thead>\n",
       "    <tr style=\"text-align: right;\">\n",
       "      <th></th>\n",
       "      <th>title_id</th>\n",
       "      <th>ordering</th>\n",
       "      <th>title</th>\n",
       "      <th>region</th>\n",
       "      <th>is_original_title</th>\n",
       "    </tr>\n",
       "  </thead>\n",
       "  <tbody>\n",
       "    <tr>\n",
       "      <th>0</th>\n",
       "      <td>tt0369610</td>\n",
       "      <td>10</td>\n",
       "      <td>Джурасик свят</td>\n",
       "      <td>BG</td>\n",
       "      <td>0.0</td>\n",
       "    </tr>\n",
       "    <tr>\n",
       "      <th>1</th>\n",
       "      <td>tt0369610</td>\n",
       "      <td>11</td>\n",
       "      <td>Jurashikku warudo</td>\n",
       "      <td>JP</td>\n",
       "      <td>0.0</td>\n",
       "    </tr>\n",
       "    <tr>\n",
       "      <th>2</th>\n",
       "      <td>tt0369610</td>\n",
       "      <td>12</td>\n",
       "      <td>Jurassic World: O Mundo dos Dinossauros</td>\n",
       "      <td>BR</td>\n",
       "      <td>0.0</td>\n",
       "    </tr>\n",
       "    <tr>\n",
       "      <th>3</th>\n",
       "      <td>tt0369610</td>\n",
       "      <td>13</td>\n",
       "      <td>O Mundo dos Dinossauros</td>\n",
       "      <td>BR</td>\n",
       "      <td>0.0</td>\n",
       "    </tr>\n",
       "    <tr>\n",
       "      <th>4</th>\n",
       "      <td>tt0369610</td>\n",
       "      <td>14</td>\n",
       "      <td>Jurassic World</td>\n",
       "      <td>FR</td>\n",
       "      <td>0.0</td>\n",
       "    </tr>\n",
       "  </tbody>\n",
       "</table>\n",
       "</div>"
      ],
      "text/plain": [
       "    title_id  ordering                                    title region  \\\n",
       "0  tt0369610        10                            Джурасик свят     BG   \n",
       "1  tt0369610        11                        Jurashikku warudo     JP   \n",
       "2  tt0369610        12  Jurassic World: O Mundo dos Dinossauros     BR   \n",
       "3  tt0369610        13                  O Mundo dos Dinossauros     BR   \n",
       "4  tt0369610        14                           Jurassic World     FR   \n",
       "\n",
       "   is_original_title  \n",
       "0                0.0  \n",
       "1                0.0  \n",
       "2                0.0  \n",
       "3                0.0  \n",
       "4                0.0  "
      ]
     },
     "execution_count": 36,
     "metadata": {},
     "output_type": "execute_result"
    }
   ],
   "source": [
    "# Dropping the columns\n",
    "columns = [\"language\", \"attributes\", \"types\"]\n",
    "title_akas = title_akas.drop(columns, axis= 1)\n",
    "title_akas.head()"
   ]
  },
  {
   "cell_type": "markdown",
   "metadata": {},
   "source": [
    "* Further analysis shows that the titles column contains movie names in different languages which is confirmed by the multiple duplicate entries in the \"title_id\" column.\n",
    "* I will need to filter out the data so that I can remain with the movie namea that are in english and the corresponfing title Ids."
   ]
  },
  {
   "cell_type": "markdown",
   "metadata": {},
   "source": [
    "### Filtering the data"
   ]
  },
  {
   "cell_type": "code",
   "execution_count": 37,
   "metadata": {},
   "outputs": [
    {
     "data": {
      "text/html": [
       "<div>\n",
       "<style scoped>\n",
       "    .dataframe tbody tr th:only-of-type {\n",
       "        vertical-align: middle;\n",
       "    }\n",
       "\n",
       "    .dataframe tbody tr th {\n",
       "        vertical-align: top;\n",
       "    }\n",
       "\n",
       "    .dataframe thead th {\n",
       "        text-align: right;\n",
       "    }\n",
       "</style>\n",
       "<table border=\"1\" class=\"dataframe\">\n",
       "  <thead>\n",
       "    <tr style=\"text-align: right;\">\n",
       "      <th></th>\n",
       "      <th>title_id</th>\n",
       "      <th>title</th>\n",
       "      <th>region</th>\n",
       "    </tr>\n",
       "  </thead>\n",
       "  <tbody>\n",
       "    <tr>\n",
       "      <th>12</th>\n",
       "      <td>tt0369610</td>\n",
       "      <td>Jurassic World 3D</td>\n",
       "      <td>US</td>\n",
       "    </tr>\n",
       "    <tr>\n",
       "      <th>20</th>\n",
       "      <td>tt0369610</td>\n",
       "      <td>Jurassic World</td>\n",
       "      <td>US</td>\n",
       "    </tr>\n",
       "    <tr>\n",
       "      <th>21</th>\n",
       "      <td>tt0369610</td>\n",
       "      <td>Ebb Tide</td>\n",
       "      <td>US</td>\n",
       "    </tr>\n",
       "    <tr>\n",
       "      <th>28</th>\n",
       "      <td>tt0369610</td>\n",
       "      <td>Jurassic Park IV</td>\n",
       "      <td>US</td>\n",
       "    </tr>\n",
       "    <tr>\n",
       "      <th>37</th>\n",
       "      <td>tt0369610</td>\n",
       "      <td>Jurassic Park 4</td>\n",
       "      <td>US</td>\n",
       "    </tr>\n",
       "    <tr>\n",
       "      <th>50</th>\n",
       "      <td>tt0401729</td>\n",
       "      <td>John Carter of Mars</td>\n",
       "      <td>US</td>\n",
       "    </tr>\n",
       "    <tr>\n",
       "      <th>51</th>\n",
       "      <td>tt0401729</td>\n",
       "      <td>A Princess of Mars</td>\n",
       "      <td>US</td>\n",
       "    </tr>\n",
       "    <tr>\n",
       "      <th>70</th>\n",
       "      <td>tt0401729</td>\n",
       "      <td>John Carter</td>\n",
       "      <td>US</td>\n",
       "    </tr>\n",
       "    <tr>\n",
       "      <th>78</th>\n",
       "      <td>tt0401729</td>\n",
       "      <td>Barsoom</td>\n",
       "      <td>US</td>\n",
       "    </tr>\n",
       "    <tr>\n",
       "      <th>109</th>\n",
       "      <td>tt1014759</td>\n",
       "      <td>Alice in Wonderland: An IMAX 3D Experience</td>\n",
       "      <td>US</td>\n",
       "    </tr>\n",
       "  </tbody>\n",
       "</table>\n",
       "</div>"
      ],
      "text/plain": [
       "      title_id                                       title region\n",
       "12   tt0369610                           Jurassic World 3D     US\n",
       "20   tt0369610                              Jurassic World     US\n",
       "21   tt0369610                                    Ebb Tide     US\n",
       "28   tt0369610                            Jurassic Park IV     US\n",
       "37   tt0369610                             Jurassic Park 4     US\n",
       "50   tt0401729                         John Carter of Mars     US\n",
       "51   tt0401729                          A Princess of Mars     US\n",
       "70   tt0401729                                 John Carter     US\n",
       "78   tt0401729                                     Barsoom     US\n",
       "109  tt1014759  Alice in Wonderland: An IMAX 3D Experience     US"
      ]
     },
     "execution_count": 37,
     "metadata": {},
     "output_type": "execute_result"
    }
   ],
   "source": [
    "#Filtering them by region US to give us English titles.\n",
    "filtered_titles = title_akas[title_akas[\"region\"] == \"US\"]\n",
    "\n",
    "# Select only the relevant columns\n",
    "filtered_titles = filtered_titles[[\"title_id\", \"title\", \"region\"]]\n",
    "filtered_titles.head(10)"
   ]
  },
  {
   "cell_type": "markdown",
   "metadata": {},
   "source": [
    "### Findings\n",
    "* It appears that the title_id \"tt0369610\" is associated with multiple movie titles, ie:  \"Jurassic World 3D\", \"Jurassic World\", \"Ebb Tide\", \"Jurassic Park IV\", and \"Jurassic Park 4\". \n",
    "* The same behavior seems to be evident across multiple titles. This could mean that ids represent movie franchises."
   ]
  },
  {
   "cell_type": "code",
   "execution_count": 38,
   "metadata": {
    "scrolled": true
   },
   "outputs": [
    {
     "name": "stdout",
     "output_type": "stream",
     "text": [
      "<class 'pandas.core.frame.DataFrame'>\n",
      "Int64Index: 51490 entries, 12 to 331694\n",
      "Data columns (total 3 columns):\n",
      " #   Column    Non-Null Count  Dtype \n",
      "---  ------    --------------  ----- \n",
      " 0   title_id  51490 non-null  object\n",
      " 1   title     51490 non-null  object\n",
      " 2   region    51490 non-null  object\n",
      "dtypes: object(3)\n",
      "memory usage: 1.6+ MB\n"
     ]
    }
   ],
   "source": [
    "# Checking a summary of the data we have remaining. \n",
    "filtered_titles.info()"
   ]
  },
  {
   "cell_type": "markdown",
   "metadata": {},
   "source": [
    "Now that we understand the data and the relationship between the title_id and the titles, We can use that to merge it with another DataFrame later to do a deeper analysis."
   ]
  },
  {
   "cell_type": "markdown",
   "metadata": {},
   "source": [
    "# 4.  Analyzing title_basics\n"
   ]
  },
  {
   "cell_type": "code",
   "execution_count": 39,
   "metadata": {},
   "outputs": [
    {
     "name": "stdout",
     "output_type": "stream",
     "text": [
      "<class 'pandas.core.frame.DataFrame'>\n",
      "RangeIndex: 146144 entries, 0 to 146143\n",
      "Data columns (total 6 columns):\n",
      " #   Column           Non-Null Count   Dtype  \n",
      "---  ------           --------------   -----  \n",
      " 0   tconst           146144 non-null  object \n",
      " 1   primary_title    146144 non-null  object \n",
      " 2   original_title   146123 non-null  object \n",
      " 3   start_year       146144 non-null  int64  \n",
      " 4   runtime_minutes  114405 non-null  float64\n",
      " 5   genres           140736 non-null  object \n",
      "dtypes: float64(1), int64(1), object(4)\n",
      "memory usage: 6.7+ MB\n"
     ]
    }
   ],
   "source": [
    "# Getting a summary of the DataFrame's structure and content.\n",
    "title_basics.info()"
   ]
  },
  {
   "cell_type": "code",
   "execution_count": 40,
   "metadata": {},
   "outputs": [
    {
     "data": {
      "text/html": [
       "<div>\n",
       "<style scoped>\n",
       "    .dataframe tbody tr th:only-of-type {\n",
       "        vertical-align: middle;\n",
       "    }\n",
       "\n",
       "    .dataframe tbody tr th {\n",
       "        vertical-align: top;\n",
       "    }\n",
       "\n",
       "    .dataframe thead th {\n",
       "        text-align: right;\n",
       "    }\n",
       "</style>\n",
       "<table border=\"1\" class=\"dataframe\">\n",
       "  <thead>\n",
       "    <tr style=\"text-align: right;\">\n",
       "      <th></th>\n",
       "      <th>tconst</th>\n",
       "      <th>primary_title</th>\n",
       "      <th>original_title</th>\n",
       "      <th>start_year</th>\n",
       "      <th>runtime_minutes</th>\n",
       "      <th>genres</th>\n",
       "    </tr>\n",
       "  </thead>\n",
       "  <tbody>\n",
       "    <tr>\n",
       "      <th>0</th>\n",
       "      <td>tt0063540</td>\n",
       "      <td>Sunghursh</td>\n",
       "      <td>Sunghursh</td>\n",
       "      <td>2013</td>\n",
       "      <td>175.0</td>\n",
       "      <td>Action,Crime,Drama</td>\n",
       "    </tr>\n",
       "    <tr>\n",
       "      <th>1</th>\n",
       "      <td>tt0066787</td>\n",
       "      <td>One Day Before the Rainy Season</td>\n",
       "      <td>Ashad Ka Ek Din</td>\n",
       "      <td>2019</td>\n",
       "      <td>114.0</td>\n",
       "      <td>Biography,Drama</td>\n",
       "    </tr>\n",
       "    <tr>\n",
       "      <th>2</th>\n",
       "      <td>tt0069049</td>\n",
       "      <td>The Other Side of the Wind</td>\n",
       "      <td>The Other Side of the Wind</td>\n",
       "      <td>2018</td>\n",
       "      <td>122.0</td>\n",
       "      <td>Drama</td>\n",
       "    </tr>\n",
       "    <tr>\n",
       "      <th>3</th>\n",
       "      <td>tt0069204</td>\n",
       "      <td>Sabse Bada Sukh</td>\n",
       "      <td>Sabse Bada Sukh</td>\n",
       "      <td>2018</td>\n",
       "      <td>NaN</td>\n",
       "      <td>Comedy,Drama</td>\n",
       "    </tr>\n",
       "    <tr>\n",
       "      <th>4</th>\n",
       "      <td>tt0100275</td>\n",
       "      <td>The Wandering Soap Opera</td>\n",
       "      <td>La Telenovela Errante</td>\n",
       "      <td>2017</td>\n",
       "      <td>80.0</td>\n",
       "      <td>Comedy,Drama,Fantasy</td>\n",
       "    </tr>\n",
       "  </tbody>\n",
       "</table>\n",
       "</div>"
      ],
      "text/plain": [
       "      tconst                    primary_title              original_title  \\\n",
       "0  tt0063540                        Sunghursh                   Sunghursh   \n",
       "1  tt0066787  One Day Before the Rainy Season             Ashad Ka Ek Din   \n",
       "2  tt0069049       The Other Side of the Wind  The Other Side of the Wind   \n",
       "3  tt0069204                  Sabse Bada Sukh             Sabse Bada Sukh   \n",
       "4  tt0100275         The Wandering Soap Opera       La Telenovela Errante   \n",
       "\n",
       "   start_year  runtime_minutes                genres  \n",
       "0        2013            175.0    Action,Crime,Drama  \n",
       "1        2019            114.0       Biography,Drama  \n",
       "2        2018            122.0                 Drama  \n",
       "3        2018              NaN          Comedy,Drama  \n",
       "4        2017             80.0  Comedy,Drama,Fantasy  "
      ]
     },
     "execution_count": 40,
     "metadata": {},
     "output_type": "execute_result"
    }
   ],
   "source": [
    "# Checking the first 5 entries in the dataframe.\n",
    "title_basics.head()"
   ]
  },
  {
   "cell_type": "markdown",
   "metadata": {},
   "source": [
    "#### Summary findings\n",
    "From the summary we see that \n",
    "* The dataset contains 6 columns and 146144 rows.\n",
    "* The \"title_basics\" dataset conatains \"tconst\", \"primary_title\", \"original_title\", \"start_year\", \"runtime_minutes\" and \"genres\" columns. \n",
    "\n",
    "* The original_title, runtime_minutes and genres columns have missing values.\n",
    "* Now that we have the genres and titles, we can merge it with another DataFrame later on and analyse the movie performances by genres."
   ]
  },
  {
   "cell_type": "markdown",
   "metadata": {},
   "source": [
    "From the summary, We now drop the \"original_title\" and \"runtime_minutes\" columns since we will not be using them in this analysis."
   ]
  },
  {
   "cell_type": "code",
   "execution_count": 41,
   "metadata": {
    "scrolled": true
   },
   "outputs": [
    {
     "data": {
      "text/html": [
       "<div>\n",
       "<style scoped>\n",
       "    .dataframe tbody tr th:only-of-type {\n",
       "        vertical-align: middle;\n",
       "    }\n",
       "\n",
       "    .dataframe tbody tr th {\n",
       "        vertical-align: top;\n",
       "    }\n",
       "\n",
       "    .dataframe thead th {\n",
       "        text-align: right;\n",
       "    }\n",
       "</style>\n",
       "<table border=\"1\" class=\"dataframe\">\n",
       "  <thead>\n",
       "    <tr style=\"text-align: right;\">\n",
       "      <th></th>\n",
       "      <th>tconst</th>\n",
       "      <th>primary_title</th>\n",
       "      <th>start_year</th>\n",
       "      <th>genres</th>\n",
       "    </tr>\n",
       "  </thead>\n",
       "  <tbody>\n",
       "    <tr>\n",
       "      <th>0</th>\n",
       "      <td>tt0063540</td>\n",
       "      <td>Sunghursh</td>\n",
       "      <td>2013</td>\n",
       "      <td>Action,Crime,Drama</td>\n",
       "    </tr>\n",
       "    <tr>\n",
       "      <th>1</th>\n",
       "      <td>tt0066787</td>\n",
       "      <td>One Day Before the Rainy Season</td>\n",
       "      <td>2019</td>\n",
       "      <td>Biography,Drama</td>\n",
       "    </tr>\n",
       "    <tr>\n",
       "      <th>2</th>\n",
       "      <td>tt0069049</td>\n",
       "      <td>The Other Side of the Wind</td>\n",
       "      <td>2018</td>\n",
       "      <td>Drama</td>\n",
       "    </tr>\n",
       "    <tr>\n",
       "      <th>3</th>\n",
       "      <td>tt0069204</td>\n",
       "      <td>Sabse Bada Sukh</td>\n",
       "      <td>2018</td>\n",
       "      <td>Comedy,Drama</td>\n",
       "    </tr>\n",
       "    <tr>\n",
       "      <th>4</th>\n",
       "      <td>tt0100275</td>\n",
       "      <td>The Wandering Soap Opera</td>\n",
       "      <td>2017</td>\n",
       "      <td>Comedy,Drama,Fantasy</td>\n",
       "    </tr>\n",
       "  </tbody>\n",
       "</table>\n",
       "</div>"
      ],
      "text/plain": [
       "      tconst                    primary_title  start_year  \\\n",
       "0  tt0063540                        Sunghursh        2013   \n",
       "1  tt0066787  One Day Before the Rainy Season        2019   \n",
       "2  tt0069049       The Other Side of the Wind        2018   \n",
       "3  tt0069204                  Sabse Bada Sukh        2018   \n",
       "4  tt0100275         The Wandering Soap Opera        2017   \n",
       "\n",
       "                 genres  \n",
       "0    Action,Crime,Drama  \n",
       "1       Biography,Drama  \n",
       "2                 Drama  \n",
       "3          Comedy,Drama  \n",
       "4  Comedy,Drama,Fantasy  "
      ]
     },
     "execution_count": 41,
     "metadata": {},
     "output_type": "execute_result"
    }
   ],
   "source": [
    "# Dropping the columns we don't need and confirming the change.\n",
    "columns = [\"original_title\", \"runtime_minutes\"]\n",
    "title_basics = title_basics.drop(columns, axis= 1)\n",
    "title_basics.head()"
   ]
  },
  {
   "cell_type": "code",
   "execution_count": 42,
   "metadata": {},
   "outputs": [
    {
     "data": {
      "text/plain": [
       "3.7004598204510617"
      ]
     },
     "execution_count": 42,
     "metadata": {},
     "output_type": "execute_result"
    }
   ],
   "source": [
    "# Checking the percentage of the missing data in genres column\n",
    "title_basics[\"genres\"].isna().mean() * 100"
   ]
  },
  {
   "cell_type": "markdown",
   "metadata": {},
   "source": [
    "The missing values in the \"genres\" column are only 3% so dropping them will not affect the data.\n"
   ]
  },
  {
   "cell_type": "code",
   "execution_count": 43,
   "metadata": {},
   "outputs": [
    {
     "name": "stdout",
     "output_type": "stream",
     "text": [
      "<class 'pandas.core.frame.DataFrame'>\n",
      "Int64Index: 140736 entries, 0 to 146143\n",
      "Data columns (total 4 columns):\n",
      " #   Column         Non-Null Count   Dtype \n",
      "---  ------         --------------   ----- \n",
      " 0   tconst         140736 non-null  object\n",
      " 1   primary_title  140736 non-null  object\n",
      " 2   start_year     140736 non-null  int64 \n",
      " 3   genres         140736 non-null  object\n",
      "dtypes: int64(1), object(3)\n",
      "memory usage: 5.4+ MB\n"
     ]
    }
   ],
   "source": [
    "# Dropping the missing values in the genres column.\n",
    "title_basics.dropna(subset= [\"genres\"], inplace= True)\n",
    "\n",
    "# Confirming the change.\n",
    "title_basics.info()"
   ]
  },
  {
   "cell_type": "markdown",
   "metadata": {},
   "source": [
    "Now we can do an analysis to see which genres have the highest number of movies."
   ]
  },
  {
   "cell_type": "code",
   "execution_count": 44,
   "metadata": {
    "scrolled": true
   },
   "outputs": [
    {
     "data": {
      "image/png": "[encoded data removed]",
      "text/plain": [
       "<Figure size 1152x288 with 1 Axes>"
      ]
     },
     "metadata": {
      "needs_background": "light"
     },
     "output_type": "display_data"
    }
   ],
   "source": [
    "# Splitting the genres column by commas, stacking and calculating the value counts of the genres.\n",
    "genre_counts = title_basics[\"genres\"].str.split(\",\", expand= True).stack().value_counts()\n",
    "\n",
    "# Plotting a bar graph.\n",
    "plt.figure(figsize=(16, 4))\n",
    "sns.barplot(x= genre_counts[:22].index, y= genre_counts[:22].values, palette= \"Set2\")\n",
    "plt.xlabel(\"Genres\")\n",
    "plt.xticks(rotation= 90)\n",
    "plt.ylabel(\"Count\")\n",
    "plt.title(\"Number of Movies by Genre\")\n",
    "plt.grid();"
   ]
  },
  {
   "cell_type": "markdown",
   "metadata": {},
   "source": [
    "After doing more research on the movies, I discovered that the entries in the \"start_year\" column actually represent the movie release dates."
   ]
  },
  {
   "cell_type": "markdown",
   "metadata": {},
   "source": [
    "* From this discovery, we can now do an anlysis of the number of movies by release years."
   ]
  },
  {
   "cell_type": "code",
   "execution_count": 45,
   "metadata": {
    "scrolled": true
   },
   "outputs": [
    {
     "data": {
      "image/png": "[encoded data removed]",
      "text/plain": [
       "<Figure size 864x360 with 1 Axes>"
      ]
     },
     "metadata": {
      "needs_background": "light"
     },
     "output_type": "display_data"
    }
   ],
   "source": [
    "# Plotting a bargraph to see the number of movies by the years.\n",
    "plt.figure(figsize= (12, 5))\n",
    "sns.countplot(data= title_basics, x= \"start_year\", palette= \"Set1\")\n",
    "plt.xlabel(\"Year\")\n",
    "plt.xticks(rotation= 90)\n",
    "plt.ylabel(\"Count\")\n",
    "plt.title(\"Movie Counts by Year\")\n",
    "plt.grid();"
   ]
  },
  {
   "cell_type": "markdown",
   "metadata": {},
   "source": [
    "### Findings\n",
    "* We see that the \"Documentary\", \"Drama\", \"Comedy\", \"Thriller\" and \"Horror\" genres have the most movies.\n",
    "In this data however, we do not have evidence that they perform the best.\n",
    "* We also see that the number of movies released kept rising over the years peaking in 2017.\n",
    "* There was a drastic drop on movie releases from 2018 to 2020. \n",
    "* In 2020, the number of movie releases decreased significantly probably as a result of the global Covid 19 pandemic where people were in lockdown and promoted popularity of streaming services. This suggest a change in consumer behavior."
   ]
  },
  {
   "cell_type": "markdown",
   "metadata": {},
   "source": [
    "# 5.  Analyzing name_basics\n"
   ]
  },
  {
   "cell_type": "code",
   "execution_count": 46,
   "metadata": {},
   "outputs": [
    {
     "data": {
      "text/html": [
       "<div>\n",
       "<style scoped>\n",
       "    .dataframe tbody tr th:only-of-type {\n",
       "        vertical-align: middle;\n",
       "    }\n",
       "\n",
       "    .dataframe tbody tr th {\n",
       "        vertical-align: top;\n",
       "    }\n",
       "\n",
       "    .dataframe thead th {\n",
       "        text-align: right;\n",
       "    }\n",
       "</style>\n",
       "<table border=\"1\" class=\"dataframe\">\n",
       "  <thead>\n",
       "    <tr style=\"text-align: right;\">\n",
       "      <th></th>\n",
       "      <th>nconst</th>\n",
       "      <th>primary_name</th>\n",
       "      <th>birth_year</th>\n",
       "      <th>death_year</th>\n",
       "      <th>primary_profession</th>\n",
       "      <th>known_for_titles</th>\n",
       "    </tr>\n",
       "  </thead>\n",
       "  <tbody>\n",
       "    <tr>\n",
       "      <th>0</th>\n",
       "      <td>nm0061671</td>\n",
       "      <td>Mary Ellen Bauder</td>\n",
       "      <td>NaN</td>\n",
       "      <td>NaN</td>\n",
       "      <td>miscellaneous,production_manager,producer</td>\n",
       "      <td>tt0837562,tt2398241,tt0844471,tt0118553</td>\n",
       "    </tr>\n",
       "    <tr>\n",
       "      <th>1</th>\n",
       "      <td>nm0061865</td>\n",
       "      <td>Joseph Bauer</td>\n",
       "      <td>NaN</td>\n",
       "      <td>NaN</td>\n",
       "      <td>composer,music_department,sound_department</td>\n",
       "      <td>tt0896534,tt6791238,tt0287072,tt1682940</td>\n",
       "    </tr>\n",
       "    <tr>\n",
       "      <th>2</th>\n",
       "      <td>nm0062070</td>\n",
       "      <td>Bruce Baum</td>\n",
       "      <td>NaN</td>\n",
       "      <td>NaN</td>\n",
       "      <td>miscellaneous,actor,writer</td>\n",
       "      <td>tt1470654,tt0363631,tt0104030,tt0102898</td>\n",
       "    </tr>\n",
       "    <tr>\n",
       "      <th>3</th>\n",
       "      <td>nm0062195</td>\n",
       "      <td>Axel Baumann</td>\n",
       "      <td>NaN</td>\n",
       "      <td>NaN</td>\n",
       "      <td>camera_department,cinematographer,art_department</td>\n",
       "      <td>tt0114371,tt2004304,tt1618448,tt1224387</td>\n",
       "    </tr>\n",
       "    <tr>\n",
       "      <th>4</th>\n",
       "      <td>nm0062798</td>\n",
       "      <td>Pete Baxter</td>\n",
       "      <td>NaN</td>\n",
       "      <td>NaN</td>\n",
       "      <td>production_designer,art_department,set_decorator</td>\n",
       "      <td>tt0452644,tt0452692,tt3458030,tt2178256</td>\n",
       "    </tr>\n",
       "  </tbody>\n",
       "</table>\n",
       "</div>"
      ],
      "text/plain": [
       "      nconst       primary_name  birth_year  death_year  \\\n",
       "0  nm0061671  Mary Ellen Bauder         NaN         NaN   \n",
       "1  nm0061865       Joseph Bauer         NaN         NaN   \n",
       "2  nm0062070         Bruce Baum         NaN         NaN   \n",
       "3  nm0062195       Axel Baumann         NaN         NaN   \n",
       "4  nm0062798        Pete Baxter         NaN         NaN   \n",
       "\n",
       "                                 primary_profession  \\\n",
       "0         miscellaneous,production_manager,producer   \n",
       "1        composer,music_department,sound_department   \n",
       "2                        miscellaneous,actor,writer   \n",
       "3  camera_department,cinematographer,art_department   \n",
       "4  production_designer,art_department,set_decorator   \n",
       "\n",
       "                          known_for_titles  \n",
       "0  tt0837562,tt2398241,tt0844471,tt0118553  \n",
       "1  tt0896534,tt6791238,tt0287072,tt1682940  \n",
       "2  tt1470654,tt0363631,tt0104030,tt0102898  \n",
       "3  tt0114371,tt2004304,tt1618448,tt1224387  \n",
       "4  tt0452644,tt0452692,tt3458030,tt2178256  "
      ]
     },
     "execution_count": 46,
     "metadata": {},
     "output_type": "execute_result"
    }
   ],
   "source": [
    "# Checking the first 5 entries in the dataset\n",
    "name_basics.head()"
   ]
  },
  {
   "cell_type": "code",
   "execution_count": 47,
   "metadata": {
    "scrolled": true
   },
   "outputs": [
    {
     "name": "stdout",
     "output_type": "stream",
     "text": [
      "<class 'pandas.core.frame.DataFrame'>\n",
      "RangeIndex: 606648 entries, 0 to 606647\n",
      "Data columns (total 6 columns):\n",
      " #   Column              Non-Null Count   Dtype  \n",
      "---  ------              --------------   -----  \n",
      " 0   nconst              606648 non-null  object \n",
      " 1   primary_name        606648 non-null  object \n",
      " 2   birth_year          82736 non-null   float64\n",
      " 3   death_year          6783 non-null    float64\n",
      " 4   primary_profession  555308 non-null  object \n",
      " 5   known_for_titles    576444 non-null  object \n",
      "dtypes: float64(2), object(4)\n",
      "memory usage: 27.8+ MB\n"
     ]
    }
   ],
   "source": [
    "# Getting a summary of the DataFrame's structure and content\n",
    "name_basics.info()"
   ]
  },
  {
   "cell_type": "markdown",
   "metadata": {},
   "source": [
    "#### Summary findings\n",
    "From the summary we see that \n",
    "* The dataset contains 6 columns and 606648 rows.\n",
    "* The \"birth_year\", \"death_year\", \"primary_profession\", and \"known_for_titles\" have missing values.\n",
    "* The \"known_for_titles\" column contains multiple entries similar to the ones in the \"title_id\" column in the \"title_akas\" dataframe.\n",
    "* The \"nconst\" column contains codes that seem to be unique identifiers for the individuals listed in the \"primary_name\" column.\n",
    "* The \"known_for_titles\" column contains entries that are codes to the different movie franchises observed in the \"title_akas\" DataFrame.\n",
    "* The \"birth_year\" and \"death_year\" columns have the highest number of missing values.\n",
    "It would be better to drop the columns fully."
   ]
  },
  {
   "cell_type": "code",
   "execution_count": 48,
   "metadata": {},
   "outputs": [
    {
     "data": {
      "text/html": [
       "<div>\n",
       "<style scoped>\n",
       "    .dataframe tbody tr th:only-of-type {\n",
       "        vertical-align: middle;\n",
       "    }\n",
       "\n",
       "    .dataframe tbody tr th {\n",
       "        vertical-align: top;\n",
       "    }\n",
       "\n",
       "    .dataframe thead th {\n",
       "        text-align: right;\n",
       "    }\n",
       "</style>\n",
       "<table border=\"1\" class=\"dataframe\">\n",
       "  <thead>\n",
       "    <tr style=\"text-align: right;\">\n",
       "      <th></th>\n",
       "      <th>nconst</th>\n",
       "      <th>primary_name</th>\n",
       "      <th>primary_profession</th>\n",
       "      <th>known_for_titles</th>\n",
       "    </tr>\n",
       "  </thead>\n",
       "  <tbody>\n",
       "    <tr>\n",
       "      <th>0</th>\n",
       "      <td>nm0061671</td>\n",
       "      <td>Mary Ellen Bauder</td>\n",
       "      <td>miscellaneous,production_manager,producer</td>\n",
       "      <td>tt0837562,tt2398241,tt0844471,tt0118553</td>\n",
       "    </tr>\n",
       "    <tr>\n",
       "      <th>1</th>\n",
       "      <td>nm0061865</td>\n",
       "      <td>Joseph Bauer</td>\n",
       "      <td>composer,music_department,sound_department</td>\n",
       "      <td>tt0896534,tt6791238,tt0287072,tt1682940</td>\n",
       "    </tr>\n",
       "    <tr>\n",
       "      <th>2</th>\n",
       "      <td>nm0062070</td>\n",
       "      <td>Bruce Baum</td>\n",
       "      <td>miscellaneous,actor,writer</td>\n",
       "      <td>tt1470654,tt0363631,tt0104030,tt0102898</td>\n",
       "    </tr>\n",
       "    <tr>\n",
       "      <th>3</th>\n",
       "      <td>nm0062195</td>\n",
       "      <td>Axel Baumann</td>\n",
       "      <td>camera_department,cinematographer,art_department</td>\n",
       "      <td>tt0114371,tt2004304,tt1618448,tt1224387</td>\n",
       "    </tr>\n",
       "    <tr>\n",
       "      <th>4</th>\n",
       "      <td>nm0062798</td>\n",
       "      <td>Pete Baxter</td>\n",
       "      <td>production_designer,art_department,set_decorator</td>\n",
       "      <td>tt0452644,tt0452692,tt3458030,tt2178256</td>\n",
       "    </tr>\n",
       "  </tbody>\n",
       "</table>\n",
       "</div>"
      ],
      "text/plain": [
       "      nconst       primary_name  \\\n",
       "0  nm0061671  Mary Ellen Bauder   \n",
       "1  nm0061865       Joseph Bauer   \n",
       "2  nm0062070         Bruce Baum   \n",
       "3  nm0062195       Axel Baumann   \n",
       "4  nm0062798        Pete Baxter   \n",
       "\n",
       "                                 primary_profession  \\\n",
       "0         miscellaneous,production_manager,producer   \n",
       "1        composer,music_department,sound_department   \n",
       "2                        miscellaneous,actor,writer   \n",
       "3  camera_department,cinematographer,art_department   \n",
       "4  production_designer,art_department,set_decorator   \n",
       "\n",
       "                          known_for_titles  \n",
       "0  tt0837562,tt2398241,tt0844471,tt0118553  \n",
       "1  tt0896534,tt6791238,tt0287072,tt1682940  \n",
       "2  tt1470654,tt0363631,tt0104030,tt0102898  \n",
       "3  tt0114371,tt2004304,tt1618448,tt1224387  \n",
       "4  tt0452644,tt0452692,tt3458030,tt2178256  "
      ]
     },
     "execution_count": 48,
     "metadata": {},
     "output_type": "execute_result"
    }
   ],
   "source": [
    "# Dropping the birth_year and death_year columns\n",
    "columns = [\"birth_year\", \"death_year\"]\n",
    "name_basics = name_basics.drop(columns, axis= 1)\n",
    "\n",
    "# Previewing to confirm the changes.\n",
    "name_basics.head()"
   ]
  },
  {
   "cell_type": "code",
   "execution_count": 49,
   "metadata": {
    "scrolled": true
   },
   "outputs": [
    {
     "data": {
      "text/plain": [
       "nconst                0.000000\n",
       "primary_name          0.000000\n",
       "primary_profession    8.462898\n",
       "known_for_titles      4.978835\n",
       "dtype: float64"
      ]
     },
     "execution_count": 49,
     "metadata": {},
     "output_type": "execute_result"
    }
   ],
   "source": [
    "#Checking the percentage of missing values in the Data Frame.\n",
    "name_basics.isna().mean() * 100"
   ]
  },
  {
   "cell_type": "markdown",
   "metadata": {},
   "source": [
    "* Now from the percentage analysis, we can also see that the percentage of missing values in \"primary_profession\" and \"known_for_titles\" columns is less than 10%. I will drop those missing entries so as to work with cleaner data. "
   ]
  },
  {
   "cell_type": "code",
   "execution_count": 50,
   "metadata": {
    "scrolled": false
   },
   "outputs": [
    {
     "name": "stdout",
     "output_type": "stream",
     "text": [
      "<class 'pandas.core.frame.DataFrame'>\n",
      "Int64Index: 535137 entries, 0 to 606647\n",
      "Data columns (total 4 columns):\n",
      " #   Column              Non-Null Count   Dtype \n",
      "---  ------              --------------   ----- \n",
      " 0   nconst              535137 non-null  object\n",
      " 1   primary_name        535137 non-null  object\n",
      " 2   primary_profession  535137 non-null  object\n",
      " 3   known_for_titles    535137 non-null  object\n",
      "dtypes: object(4)\n",
      "memory usage: 20.4+ MB\n"
     ]
    }
   ],
   "source": [
    "# Droping the rows with missing values in \"primary_profession\" and \"known_for_titles\" columns\n",
    "name_basics.dropna(subset= [\"primary_profession\"], inplace=True)\n",
    "name_basics.dropna(subset= [\"known_for_titles\"], inplace=True)\n",
    "\n",
    "# Verifying the Changes\n",
    "name_basics.info()"
   ]
  },
  {
   "cell_type": "markdown",
   "metadata": {},
   "source": [
    "# 6.  Analyzing title_crew\n"
   ]
  },
  {
   "cell_type": "code",
   "execution_count": 51,
   "metadata": {},
   "outputs": [
    {
     "name": "stdout",
     "output_type": "stream",
     "text": [
      "<class 'pandas.core.frame.DataFrame'>\n",
      "RangeIndex: 146144 entries, 0 to 146143\n",
      "Data columns (total 3 columns):\n",
      " #   Column     Non-Null Count   Dtype \n",
      "---  ------     --------------   ----- \n",
      " 0   tconst     146144 non-null  object\n",
      " 1   directors  140417 non-null  object\n",
      " 2   writers    110261 non-null  object\n",
      "dtypes: object(3)\n",
      "memory usage: 3.3+ MB\n"
     ]
    }
   ],
   "source": [
    "# Getting a summary of the DataFrame's structure and content\n",
    "title_crew.info()"
   ]
  },
  {
   "cell_type": "code",
   "execution_count": 52,
   "metadata": {},
   "outputs": [
    {
     "data": {
      "text/html": [
       "<div>\n",
       "<style scoped>\n",
       "    .dataframe tbody tr th:only-of-type {\n",
       "        vertical-align: middle;\n",
       "    }\n",
       "\n",
       "    .dataframe tbody tr th {\n",
       "        vertical-align: top;\n",
       "    }\n",
       "\n",
       "    .dataframe thead th {\n",
       "        text-align: right;\n",
       "    }\n",
       "</style>\n",
       "<table border=\"1\" class=\"dataframe\">\n",
       "  <thead>\n",
       "    <tr style=\"text-align: right;\">\n",
       "      <th></th>\n",
       "      <th>tconst</th>\n",
       "      <th>directors</th>\n",
       "      <th>writers</th>\n",
       "    </tr>\n",
       "  </thead>\n",
       "  <tbody>\n",
       "    <tr>\n",
       "      <th>0</th>\n",
       "      <td>tt0285252</td>\n",
       "      <td>nm0899854</td>\n",
       "      <td>nm0899854</td>\n",
       "    </tr>\n",
       "    <tr>\n",
       "      <th>1</th>\n",
       "      <td>tt0438973</td>\n",
       "      <td>NaN</td>\n",
       "      <td>nm0175726,nm1802864</td>\n",
       "    </tr>\n",
       "    <tr>\n",
       "      <th>2</th>\n",
       "      <td>tt0462036</td>\n",
       "      <td>nm1940585</td>\n",
       "      <td>nm1940585</td>\n",
       "    </tr>\n",
       "    <tr>\n",
       "      <th>3</th>\n",
       "      <td>tt0835418</td>\n",
       "      <td>nm0151540</td>\n",
       "      <td>nm0310087,nm0841532</td>\n",
       "    </tr>\n",
       "    <tr>\n",
       "      <th>4</th>\n",
       "      <td>tt0878654</td>\n",
       "      <td>nm0089502,nm2291498,nm2292011</td>\n",
       "      <td>nm0284943</td>\n",
       "    </tr>\n",
       "  </tbody>\n",
       "</table>\n",
       "</div>"
      ],
      "text/plain": [
       "      tconst                      directors              writers\n",
       "0  tt0285252                      nm0899854            nm0899854\n",
       "1  tt0438973                            NaN  nm0175726,nm1802864\n",
       "2  tt0462036                      nm1940585            nm1940585\n",
       "3  tt0835418                      nm0151540  nm0310087,nm0841532\n",
       "4  tt0878654  nm0089502,nm2291498,nm2292011            nm0284943"
      ]
     },
     "execution_count": 52,
     "metadata": {},
     "output_type": "execute_result"
    }
   ],
   "source": [
    "# Checking the first 5 entries in the daataframe\n",
    "title_crew.head()"
   ]
  },
  {
   "cell_type": "markdown",
   "metadata": {},
   "source": [
    "#### Summary findings\n",
    "From the summary we see that \n",
    "* The dataset contains 3 columns and 146144 rows.\n",
    "* The directors and writers column contain missing values.\n",
    "* The entries seem to be codes relating to movies and directors and writers names.\n",
    "* The dataset seems relatable to the name_basics dataset for more analysis it would be possible to merge the two."
   ]
  },
  {
   "cell_type": "code",
   "execution_count": 53,
   "metadata": {},
   "outputs": [
    {
     "data": {
      "text/plain": [
       "tconst        0.000000\n",
       "directors     3.918738\n",
       "writers      24.553180\n",
       "dtype: float64"
      ]
     },
     "execution_count": 53,
     "metadata": {},
     "output_type": "execute_result"
    }
   ],
   "source": [
    "# Checking the percentage of missing values in our DataFrame.\n",
    "title_crew.isna().mean() * 100"
   ]
  },
  {
   "cell_type": "markdown",
   "metadata": {},
   "source": [
    "* We see that the \"directors\" column is missing 3% of it's data.\n",
    "* We will go a head to drop those entries."
   ]
  },
  {
   "cell_type": "code",
   "execution_count": 54,
   "metadata": {
    "scrolled": true
   },
   "outputs": [
    {
     "name": "stdout",
     "output_type": "stream",
     "text": [
      "<class 'pandas.core.frame.DataFrame'>\n",
      "Int64Index: 140417 entries, 0 to 146142\n",
      "Data columns (total 3 columns):\n",
      " #   Column     Non-Null Count   Dtype \n",
      "---  ------     --------------   ----- \n",
      " 0   tconst     140417 non-null  object\n",
      " 1   directors  140417 non-null  object\n",
      " 2   writers    109008 non-null  object\n",
      "dtypes: object(3)\n",
      "memory usage: 4.3+ MB\n"
     ]
    }
   ],
   "source": [
    "# Drop rows with missing values in the specified column\n",
    "title_crew.dropna(subset= [\"directors\"], inplace= True)\n",
    "\n",
    "# Verifying the changes.\n",
    "title_crew.info()"
   ]
  },
  {
   "cell_type": "code",
   "execution_count": 55,
   "metadata": {},
   "outputs": [
    {
     "data": {
      "text/html": [
       "<div>\n",
       "<style scoped>\n",
       "    .dataframe tbody tr th:only-of-type {\n",
       "        vertical-align: middle;\n",
       "    }\n",
       "\n",
       "    .dataframe tbody tr th {\n",
       "        vertical-align: top;\n",
       "    }\n",
       "\n",
       "    .dataframe thead th {\n",
       "        text-align: right;\n",
       "    }\n",
       "</style>\n",
       "<table border=\"1\" class=\"dataframe\">\n",
       "  <thead>\n",
       "    <tr style=\"text-align: right;\">\n",
       "      <th></th>\n",
       "      <th>tconst</th>\n",
       "      <th>directors</th>\n",
       "      <th>writers</th>\n",
       "    </tr>\n",
       "  </thead>\n",
       "  <tbody>\n",
       "    <tr>\n",
       "      <th>89711</th>\n",
       "      <td>tt1965162</td>\n",
       "      <td>nm3099213</td>\n",
       "      <td>nm3099213</td>\n",
       "    </tr>\n",
       "    <tr>\n",
       "      <th>110901</th>\n",
       "      <td>tt6869936</td>\n",
       "      <td>nm6499977</td>\n",
       "      <td>nm8980316,nm6497854,nm6499977</td>\n",
       "    </tr>\n",
       "    <tr>\n",
       "      <th>134835</th>\n",
       "      <td>tt5577186</td>\n",
       "      <td>nm1825363</td>\n",
       "      <td>NaN</td>\n",
       "    </tr>\n",
       "    <tr>\n",
       "      <th>57182</th>\n",
       "      <td>tt10189338</td>\n",
       "      <td>nm0765621</td>\n",
       "      <td>nm0765621,nm10165856</td>\n",
       "    </tr>\n",
       "    <tr>\n",
       "      <th>127713</th>\n",
       "      <td>tt6615346</td>\n",
       "      <td>nm4959548</td>\n",
       "      <td>nm4959548</td>\n",
       "    </tr>\n",
       "    <tr>\n",
       "      <th>81066</th>\n",
       "      <td>tt4651170</td>\n",
       "      <td>nm1005888</td>\n",
       "      <td>nm1693600,nm2309700</td>\n",
       "    </tr>\n",
       "    <tr>\n",
       "      <th>37688</th>\n",
       "      <td>tt4004608</td>\n",
       "      <td>nm4919215,nm4732329</td>\n",
       "      <td>nm4732329</td>\n",
       "    </tr>\n",
       "    <tr>\n",
       "      <th>35392</th>\n",
       "      <td>tt4444534</td>\n",
       "      <td>nm7119555</td>\n",
       "      <td>nm7119558,nm1944300,nm7119555</td>\n",
       "    </tr>\n",
       "    <tr>\n",
       "      <th>40750</th>\n",
       "      <td>tt7105010</td>\n",
       "      <td>nm9111058</td>\n",
       "      <td>nm4768685</td>\n",
       "    </tr>\n",
       "    <tr>\n",
       "      <th>103387</th>\n",
       "      <td>tt8655618</td>\n",
       "      <td>nm9949704</td>\n",
       "      <td>nm9949704</td>\n",
       "    </tr>\n",
       "  </tbody>\n",
       "</table>\n",
       "</div>"
      ],
      "text/plain": [
       "            tconst            directors                        writers\n",
       "89711    tt1965162            nm3099213                      nm3099213\n",
       "110901   tt6869936            nm6499977  nm8980316,nm6497854,nm6499977\n",
       "134835   tt5577186            nm1825363                            NaN\n",
       "57182   tt10189338            nm0765621           nm0765621,nm10165856\n",
       "127713   tt6615346            nm4959548                      nm4959548\n",
       "81066    tt4651170            nm1005888            nm1693600,nm2309700\n",
       "37688    tt4004608  nm4919215,nm4732329                      nm4732329\n",
       "35392    tt4444534            nm7119555  nm7119558,nm1944300,nm7119555\n",
       "40750    tt7105010            nm9111058                      nm4768685\n",
       "103387   tt8655618            nm9949704                      nm9949704"
      ]
     },
     "execution_count": 55,
     "metadata": {},
     "output_type": "execute_result"
    }
   ],
   "source": [
    "# Sampling the data to look at the state of the entries.\n",
    "title_crew.sample(10)"
   ]
  },
  {
   "cell_type": "markdown",
   "metadata": {},
   "source": [
    "* We see that some of the entries in the directors column have multiple values seperated by commas. "
   ]
  },
  {
   "cell_type": "markdown",
   "metadata": {},
   "source": [
    "# Merging DataFrames to do deeper analysis\n",
    "\n",
    "Now that we've reviewed the data, we have an idea of the questions we can answer by merging some of our data Frames.\n",
    "\n",
    "### Questions\n",
    "1. Which studios have the Highiest ROI and make the most profitable Movies?\n",
    "2. Which genres are popular among the studios?\n",
    "3. Which genres are profitable and have the highest ROI?\n",
    "4. Which Directors have the most profitable movies?\n",
    "5. What are the number of movies produced over the years?\n",
    "\n",
    "After a deeper analysis, We see that the \"bom_movies\" and \"title_basics\" DataFrames can be merged on the \"titles\" and \"primary_title\" columns. We can rename the \"primary_title\" column to \"title\" so that we can do the join."
   ]
  },
  {
   "cell_type": "code",
   "execution_count": 56,
   "metadata": {},
   "outputs": [],
   "source": [
    "# Changing the \"primary_title\" column name to \"title\"\n",
    "title_basics = title_basics.rename(columns={\"primary_title\": \"title\"})"
   ]
  },
  {
   "cell_type": "code",
   "execution_count": 57,
   "metadata": {},
   "outputs": [
    {
     "name": "stdout",
     "output_type": "stream",
     "text": [
      "<class 'pandas.core.frame.DataFrame'>\n",
      "Int64Index: 3301 entries, 0 to 3300\n",
      "Data columns (total 8 columns):\n",
      " #   Column          Non-Null Count  Dtype  \n",
      "---  ------          --------------  -----  \n",
      " 0   title           3301 non-null   object \n",
      " 1   studio          3301 non-null   object \n",
      " 2   domestic_gross  3301 non-null   float64\n",
      " 3   foreign_gross   3301 non-null   float64\n",
      " 4   year            3301 non-null   int64  \n",
      " 5   tconst          3301 non-null   object \n",
      " 6   start_year      3301 non-null   int64  \n",
      " 7   genres          3301 non-null   object \n",
      "dtypes: float64(2), int64(2), object(4)\n",
      "memory usage: 232.1+ KB\n"
     ]
    }
   ],
   "source": [
    "# Merging the two DataFrames\n",
    "new_data = bom_movies.merge(title_basics, on= \"title\", how= \"inner\")\n",
    "new_data.info()"
   ]
  },
  {
   "cell_type": "code",
   "execution_count": 58,
   "metadata": {
    "scrolled": true
   },
   "outputs": [
    {
     "data": {
      "text/html": [
       "<div>\n",
       "<style scoped>\n",
       "    .dataframe tbody tr th:only-of-type {\n",
       "        vertical-align: middle;\n",
       "    }\n",
       "\n",
       "    .dataframe tbody tr th {\n",
       "        vertical-align: top;\n",
       "    }\n",
       "\n",
       "    .dataframe thead th {\n",
       "        text-align: right;\n",
       "    }\n",
       "</style>\n",
       "<table border=\"1\" class=\"dataframe\">\n",
       "  <thead>\n",
       "    <tr style=\"text-align: right;\">\n",
       "      <th></th>\n",
       "      <th>title</th>\n",
       "      <th>studio</th>\n",
       "      <th>domestic_gross</th>\n",
       "      <th>foreign_gross</th>\n",
       "      <th>year</th>\n",
       "      <th>tconst</th>\n",
       "      <th>start_year</th>\n",
       "      <th>genres</th>\n",
       "    </tr>\n",
       "  </thead>\n",
       "  <tbody>\n",
       "    <tr>\n",
       "      <th>0</th>\n",
       "      <td>Toy Story 3</td>\n",
       "      <td>BV</td>\n",
       "      <td>415000000.0</td>\n",
       "      <td>652000000.0</td>\n",
       "      <td>2010</td>\n",
       "      <td>tt0435761</td>\n",
       "      <td>2010</td>\n",
       "      <td>Adventure,Animation,Comedy</td>\n",
       "    </tr>\n",
       "    <tr>\n",
       "      <th>1</th>\n",
       "      <td>Inception</td>\n",
       "      <td>WB</td>\n",
       "      <td>292600000.0</td>\n",
       "      <td>535700000.0</td>\n",
       "      <td>2010</td>\n",
       "      <td>tt1375666</td>\n",
       "      <td>2010</td>\n",
       "      <td>Action,Adventure,Sci-Fi</td>\n",
       "    </tr>\n",
       "    <tr>\n",
       "      <th>2</th>\n",
       "      <td>Shrek Forever After</td>\n",
       "      <td>P/DW</td>\n",
       "      <td>238700000.0</td>\n",
       "      <td>513900000.0</td>\n",
       "      <td>2010</td>\n",
       "      <td>tt0892791</td>\n",
       "      <td>2010</td>\n",
       "      <td>Adventure,Animation,Comedy</td>\n",
       "    </tr>\n",
       "    <tr>\n",
       "      <th>3</th>\n",
       "      <td>The Twilight Saga: Eclipse</td>\n",
       "      <td>Sum.</td>\n",
       "      <td>300500000.0</td>\n",
       "      <td>398000000.0</td>\n",
       "      <td>2010</td>\n",
       "      <td>tt1325004</td>\n",
       "      <td>2010</td>\n",
       "      <td>Adventure,Drama,Fantasy</td>\n",
       "    </tr>\n",
       "    <tr>\n",
       "      <th>4</th>\n",
       "      <td>Iron Man 2</td>\n",
       "      <td>Par.</td>\n",
       "      <td>312400000.0</td>\n",
       "      <td>311500000.0</td>\n",
       "      <td>2010</td>\n",
       "      <td>tt1228705</td>\n",
       "      <td>2010</td>\n",
       "      <td>Action,Adventure,Sci-Fi</td>\n",
       "    </tr>\n",
       "  </tbody>\n",
       "</table>\n",
       "</div>"
      ],
      "text/plain": [
       "                        title studio  domestic_gross  foreign_gross  year  \\\n",
       "0                 Toy Story 3     BV     415000000.0    652000000.0  2010   \n",
       "1                   Inception     WB     292600000.0    535700000.0  2010   \n",
       "2         Shrek Forever After   P/DW     238700000.0    513900000.0  2010   \n",
       "3  The Twilight Saga: Eclipse   Sum.     300500000.0    398000000.0  2010   \n",
       "4                  Iron Man 2   Par.     312400000.0    311500000.0  2010   \n",
       "\n",
       "      tconst  start_year                      genres  \n",
       "0  tt0435761        2010  Adventure,Animation,Comedy  \n",
       "1  tt1375666        2010     Action,Adventure,Sci-Fi  \n",
       "2  tt0892791        2010  Adventure,Animation,Comedy  \n",
       "3  tt1325004        2010     Adventure,Drama,Fantasy  \n",
       "4  tt1228705        2010     Action,Adventure,Sci-Fi  "
      ]
     },
     "execution_count": 58,
     "metadata": {},
     "output_type": "execute_result"
    }
   ],
   "source": [
    "# checking the first 5 entries to confirm the changes.\n",
    "new_data.head()"
   ]
  },
  {
   "cell_type": "markdown",
   "metadata": {},
   "source": [
    "* Now that we've done the merge, we can now continue to do another merge with the \"movie_budgets\" on the title column so that we can do an analysis of the studio, genre and ROi."
   ]
  },
  {
   "cell_type": "code",
   "execution_count": 59,
   "metadata": {},
   "outputs": [],
   "source": [
    "# Renaming the \"title\" column in our new dataframe so that we can join it to the movie_budgets df\n",
    "new_data = new_data.rename(columns={\"title\": \"movie\"})"
   ]
  },
  {
   "cell_type": "code",
   "execution_count": 60,
   "metadata": {},
   "outputs": [
    {
     "data": {
      "text/html": [
       "<div>\n",
       "<style scoped>\n",
       "    .dataframe tbody tr th:only-of-type {\n",
       "        vertical-align: middle;\n",
       "    }\n",
       "\n",
       "    .dataframe tbody tr th {\n",
       "        vertical-align: top;\n",
       "    }\n",
       "\n",
       "    .dataframe thead th {\n",
       "        text-align: right;\n",
       "    }\n",
       "</style>\n",
       "<table border=\"1\" class=\"dataframe\">\n",
       "  <thead>\n",
       "    <tr style=\"text-align: right;\">\n",
       "      <th></th>\n",
       "      <th>release_date</th>\n",
       "      <th>movie</th>\n",
       "      <th>production_budget</th>\n",
       "      <th>domestic_gross_x</th>\n",
       "      <th>worldwide_gross</th>\n",
       "      <th>ROI</th>\n",
       "      <th>studio</th>\n",
       "      <th>domestic_gross_y</th>\n",
       "      <th>foreign_gross</th>\n",
       "      <th>year</th>\n",
       "      <th>tconst</th>\n",
       "      <th>start_year</th>\n",
       "      <th>genres</th>\n",
       "    </tr>\n",
       "  </thead>\n",
       "  <tbody>\n",
       "    <tr>\n",
       "      <th>0</th>\n",
       "      <td>May 20, 2011</td>\n",
       "      <td>Pirates of the Caribbean: On Stranger Tides</td>\n",
       "      <td>410600000</td>\n",
       "      <td>241063875</td>\n",
       "      <td>1045663875</td>\n",
       "      <td>154.667286</td>\n",
       "      <td>BV</td>\n",
       "      <td>241100000.0</td>\n",
       "      <td>804600000.0</td>\n",
       "      <td>2011</td>\n",
       "      <td>tt1298650</td>\n",
       "      <td>2011</td>\n",
       "      <td>Action,Adventure,Fantasy</td>\n",
       "    </tr>\n",
       "    <tr>\n",
       "      <th>1</th>\n",
       "      <td>May 1, 2015</td>\n",
       "      <td>Avengers: Age of Ultron</td>\n",
       "      <td>330600000</td>\n",
       "      <td>459005868</td>\n",
       "      <td>1403013963</td>\n",
       "      <td>324.384139</td>\n",
       "      <td>BV</td>\n",
       "      <td>459000000.0</td>\n",
       "      <td>946400000.0</td>\n",
       "      <td>2015</td>\n",
       "      <td>tt2395427</td>\n",
       "      <td>2015</td>\n",
       "      <td>Action,Adventure,Sci-Fi</td>\n",
       "    </tr>\n",
       "    <tr>\n",
       "      <th>2</th>\n",
       "      <td>Apr 27, 2018</td>\n",
       "      <td>Avengers: Infinity War</td>\n",
       "      <td>300000000</td>\n",
       "      <td>678815482</td>\n",
       "      <td>2048134200</td>\n",
       "      <td>582.711400</td>\n",
       "      <td>BV</td>\n",
       "      <td>678800000.0</td>\n",
       "      <td>0.0</td>\n",
       "      <td>2018</td>\n",
       "      <td>tt4154756</td>\n",
       "      <td>2018</td>\n",
       "      <td>Action,Adventure,Sci-Fi</td>\n",
       "    </tr>\n",
       "    <tr>\n",
       "      <th>3</th>\n",
       "      <td>Nov 17, 2017</td>\n",
       "      <td>Justice League</td>\n",
       "      <td>300000000</td>\n",
       "      <td>229024295</td>\n",
       "      <td>655945209</td>\n",
       "      <td>118.648403</td>\n",
       "      <td>WB</td>\n",
       "      <td>229000000.0</td>\n",
       "      <td>428900000.0</td>\n",
       "      <td>2017</td>\n",
       "      <td>tt0974015</td>\n",
       "      <td>2017</td>\n",
       "      <td>Action,Adventure,Fantasy</td>\n",
       "    </tr>\n",
       "    <tr>\n",
       "      <th>4</th>\n",
       "      <td>Nov 6, 2015</td>\n",
       "      <td>Spectre</td>\n",
       "      <td>300000000</td>\n",
       "      <td>200074175</td>\n",
       "      <td>879620923</td>\n",
       "      <td>193.206974</td>\n",
       "      <td>Sony</td>\n",
       "      <td>200100000.0</td>\n",
       "      <td>680600000.0</td>\n",
       "      <td>2015</td>\n",
       "      <td>tt2379713</td>\n",
       "      <td>2015</td>\n",
       "      <td>Action,Adventure,Thriller</td>\n",
       "    </tr>\n",
       "  </tbody>\n",
       "</table>\n",
       "</div>"
      ],
      "text/plain": [
       "   release_date                                        movie  \\\n",
       "0  May 20, 2011  Pirates of the Caribbean: On Stranger Tides   \n",
       "1   May 1, 2015                      Avengers: Age of Ultron   \n",
       "2  Apr 27, 2018                       Avengers: Infinity War   \n",
       "3  Nov 17, 2017                               Justice League   \n",
       "4   Nov 6, 2015                                      Spectre   \n",
       "\n",
       "   production_budget  domestic_gross_x  worldwide_gross         ROI studio  \\\n",
       "0          410600000         241063875       1045663875  154.667286     BV   \n",
       "1          330600000         459005868       1403013963  324.384139     BV   \n",
       "2          300000000         678815482       2048134200  582.711400     BV   \n",
       "3          300000000         229024295        655945209  118.648403     WB   \n",
       "4          300000000         200074175        879620923  193.206974   Sony   \n",
       "\n",
       "   domestic_gross_y  foreign_gross  year     tconst  start_year  \\\n",
       "0       241100000.0    804600000.0  2011  tt1298650        2011   \n",
       "1       459000000.0    946400000.0  2015  tt2395427        2015   \n",
       "2       678800000.0            0.0  2018  tt4154756        2018   \n",
       "3       229000000.0    428900000.0  2017  tt0974015        2017   \n",
       "4       200100000.0    680600000.0  2015  tt2379713        2015   \n",
       "\n",
       "                      genres  \n",
       "0   Action,Adventure,Fantasy  \n",
       "1    Action,Adventure,Sci-Fi  \n",
       "2    Action,Adventure,Sci-Fi  \n",
       "3   Action,Adventure,Fantasy  \n",
       "4  Action,Adventure,Thriller  "
      ]
     },
     "execution_count": 60,
     "metadata": {},
     "output_type": "execute_result"
    }
   ],
   "source": [
    "# Joining the data frames.\n",
    "merged_data = pd.merge(movie_budgets, new_data, on= \"movie\", how= \"inner\")\n",
    "merged_data.head()"
   ]
  },
  {
   "cell_type": "code",
   "execution_count": 61,
   "metadata": {
    "scrolled": true
   },
   "outputs": [
    {
     "name": "stdout",
     "output_type": "stream",
     "text": [
      "<class 'pandas.core.frame.DataFrame'>\n",
      "Int64Index: 1575 entries, 0 to 1574\n",
      "Data columns (total 13 columns):\n",
      " #   Column             Non-Null Count  Dtype  \n",
      "---  ------             --------------  -----  \n",
      " 0   release_date       1575 non-null   object \n",
      " 1   movie              1575 non-null   object \n",
      " 2   production_budget  1575 non-null   int64  \n",
      " 3   domestic_gross_x   1575 non-null   int64  \n",
      " 4   worldwide_gross    1575 non-null   int64  \n",
      " 5   ROI                1575 non-null   float64\n",
      " 6   studio             1575 non-null   object \n",
      " 7   domestic_gross_y   1575 non-null   float64\n",
      " 8   foreign_gross      1575 non-null   float64\n",
      " 9   year               1575 non-null   int64  \n",
      " 10  tconst             1575 non-null   object \n",
      " 11  start_year         1575 non-null   int64  \n",
      " 12  genres             1575 non-null   object \n",
      "dtypes: float64(3), int64(5), object(5)\n",
      "memory usage: 172.3+ KB\n"
     ]
    }
   ],
   "source": [
    "# Getting a summary of the DataFrame's structure and content.\n",
    "merged_data.info()"
   ]
  },
  {
   "cell_type": "markdown",
   "metadata": {},
   "source": [
    "## Cleaning the new DataFrame.\n",
    "After joining the dataframes, we drop the columns that we will not be using for our analysis.\n",
    "* \"release_date\", \"start_year\" are repetetive. We can just keep \"year\" column.  \n",
    "* Since ROI was calculated using \"production_budget\" and \"worldwide_gross\", we don't need the other financial columns. "
   ]
  },
  {
   "cell_type": "code",
   "execution_count": 62,
   "metadata": {},
   "outputs": [
    {
     "data": {
      "text/html": [
       "<div>\n",
       "<style scoped>\n",
       "    .dataframe tbody tr th:only-of-type {\n",
       "        vertical-align: middle;\n",
       "    }\n",
       "\n",
       "    .dataframe tbody tr th {\n",
       "        vertical-align: top;\n",
       "    }\n",
       "\n",
       "    .dataframe thead th {\n",
       "        text-align: right;\n",
       "    }\n",
       "</style>\n",
       "<table border=\"1\" class=\"dataframe\">\n",
       "  <thead>\n",
       "    <tr style=\"text-align: right;\">\n",
       "      <th></th>\n",
       "      <th>movie</th>\n",
       "      <th>production_budget</th>\n",
       "      <th>worldwide_gross</th>\n",
       "      <th>ROI</th>\n",
       "      <th>studio</th>\n",
       "      <th>year</th>\n",
       "      <th>tconst</th>\n",
       "      <th>genres</th>\n",
       "    </tr>\n",
       "  </thead>\n",
       "  <tbody>\n",
       "    <tr>\n",
       "      <th>0</th>\n",
       "      <td>Pirates of the Caribbean: On Stranger Tides</td>\n",
       "      <td>410600000</td>\n",
       "      <td>1045663875</td>\n",
       "      <td>154.667286</td>\n",
       "      <td>BV</td>\n",
       "      <td>2011</td>\n",
       "      <td>tt1298650</td>\n",
       "      <td>Action,Adventure,Fantasy</td>\n",
       "    </tr>\n",
       "    <tr>\n",
       "      <th>1</th>\n",
       "      <td>Avengers: Age of Ultron</td>\n",
       "      <td>330600000</td>\n",
       "      <td>1403013963</td>\n",
       "      <td>324.384139</td>\n",
       "      <td>BV</td>\n",
       "      <td>2015</td>\n",
       "      <td>tt2395427</td>\n",
       "      <td>Action,Adventure,Sci-Fi</td>\n",
       "    </tr>\n",
       "    <tr>\n",
       "      <th>2</th>\n",
       "      <td>Avengers: Infinity War</td>\n",
       "      <td>300000000</td>\n",
       "      <td>2048134200</td>\n",
       "      <td>582.711400</td>\n",
       "      <td>BV</td>\n",
       "      <td>2018</td>\n",
       "      <td>tt4154756</td>\n",
       "      <td>Action,Adventure,Sci-Fi</td>\n",
       "    </tr>\n",
       "    <tr>\n",
       "      <th>3</th>\n",
       "      <td>Justice League</td>\n",
       "      <td>300000000</td>\n",
       "      <td>655945209</td>\n",
       "      <td>118.648403</td>\n",
       "      <td>WB</td>\n",
       "      <td>2017</td>\n",
       "      <td>tt0974015</td>\n",
       "      <td>Action,Adventure,Fantasy</td>\n",
       "    </tr>\n",
       "    <tr>\n",
       "      <th>4</th>\n",
       "      <td>Spectre</td>\n",
       "      <td>300000000</td>\n",
       "      <td>879620923</td>\n",
       "      <td>193.206974</td>\n",
       "      <td>Sony</td>\n",
       "      <td>2015</td>\n",
       "      <td>tt2379713</td>\n",
       "      <td>Action,Adventure,Thriller</td>\n",
       "    </tr>\n",
       "    <tr>\n",
       "      <th>5</th>\n",
       "      <td>The Dark Knight Rises</td>\n",
       "      <td>275000000</td>\n",
       "      <td>1084439099</td>\n",
       "      <td>294.341491</td>\n",
       "      <td>WB</td>\n",
       "      <td>2012</td>\n",
       "      <td>tt1345836</td>\n",
       "      <td>Action,Thriller</td>\n",
       "    </tr>\n",
       "    <tr>\n",
       "      <th>6</th>\n",
       "      <td>Solo: A Star Wars Story</td>\n",
       "      <td>275000000</td>\n",
       "      <td>393151347</td>\n",
       "      <td>42.964126</td>\n",
       "      <td>BV</td>\n",
       "      <td>2018</td>\n",
       "      <td>tt3778644</td>\n",
       "      <td>Action,Adventure,Fantasy</td>\n",
       "    </tr>\n",
       "    <tr>\n",
       "      <th>7</th>\n",
       "      <td>The Lone Ranger</td>\n",
       "      <td>275000000</td>\n",
       "      <td>260002115</td>\n",
       "      <td>-5.453776</td>\n",
       "      <td>BV</td>\n",
       "      <td>2013</td>\n",
       "      <td>tt1210819</td>\n",
       "      <td>Action,Adventure,Western</td>\n",
       "    </tr>\n",
       "    <tr>\n",
       "      <th>8</th>\n",
       "      <td>John Carter</td>\n",
       "      <td>275000000</td>\n",
       "      <td>282778100</td>\n",
       "      <td>2.828400</td>\n",
       "      <td>BV</td>\n",
       "      <td>2012</td>\n",
       "      <td>tt0401729</td>\n",
       "      <td>Action,Adventure,Sci-Fi</td>\n",
       "    </tr>\n",
       "    <tr>\n",
       "      <th>9</th>\n",
       "      <td>Tangled</td>\n",
       "      <td>260000000</td>\n",
       "      <td>586477240</td>\n",
       "      <td>125.568169</td>\n",
       "      <td>BV</td>\n",
       "      <td>2010</td>\n",
       "      <td>tt0398286</td>\n",
       "      <td>Adventure,Animation,Comedy</td>\n",
       "    </tr>\n",
       "  </tbody>\n",
       "</table>\n",
       "</div>"
      ],
      "text/plain": [
       "                                         movie  production_budget  \\\n",
       "0  Pirates of the Caribbean: On Stranger Tides          410600000   \n",
       "1                      Avengers: Age of Ultron          330600000   \n",
       "2                       Avengers: Infinity War          300000000   \n",
       "3                               Justice League          300000000   \n",
       "4                                      Spectre          300000000   \n",
       "5                        The Dark Knight Rises          275000000   \n",
       "6                      Solo: A Star Wars Story          275000000   \n",
       "7                              The Lone Ranger          275000000   \n",
       "8                                  John Carter          275000000   \n",
       "9                                      Tangled          260000000   \n",
       "\n",
       "   worldwide_gross         ROI studio  year     tconst  \\\n",
       "0       1045663875  154.667286     BV  2011  tt1298650   \n",
       "1       1403013963  324.384139     BV  2015  tt2395427   \n",
       "2       2048134200  582.711400     BV  2018  tt4154756   \n",
       "3        655945209  118.648403     WB  2017  tt0974015   \n",
       "4        879620923  193.206974   Sony  2015  tt2379713   \n",
       "5       1084439099  294.341491     WB  2012  tt1345836   \n",
       "6        393151347   42.964126     BV  2018  tt3778644   \n",
       "7        260002115   -5.453776     BV  2013  tt1210819   \n",
       "8        282778100    2.828400     BV  2012  tt0401729   \n",
       "9        586477240  125.568169     BV  2010  tt0398286   \n",
       "\n",
       "                       genres  \n",
       "0    Action,Adventure,Fantasy  \n",
       "1     Action,Adventure,Sci-Fi  \n",
       "2     Action,Adventure,Sci-Fi  \n",
       "3    Action,Adventure,Fantasy  \n",
       "4   Action,Adventure,Thriller  \n",
       "5             Action,Thriller  \n",
       "6    Action,Adventure,Fantasy  \n",
       "7    Action,Adventure,Western  \n",
       "8     Action,Adventure,Sci-Fi  \n",
       "9  Adventure,Animation,Comedy  "
      ]
     },
     "execution_count": 62,
     "metadata": {},
     "output_type": "execute_result"
    }
   ],
   "source": [
    "# Dropping the columns we don't need.\n",
    "columns = [\"release_date\", \"start_year\", \"domestic_gross_x\", \"domestic_gross_y\", \"foreign_gross\"]\n",
    "merged_data= merged_data.drop(columns, axis=1)\n",
    "merged_data.head(10)"
   ]
  },
  {
   "cell_type": "markdown",
   "metadata": {},
   "source": [
    "* Now that we have the necessary data for our analysis, we can go on to analyse the Genres with the highest ROI"
   ]
  },
  {
   "cell_type": "code",
   "execution_count": 63,
   "metadata": {},
   "outputs": [],
   "source": [
    "# Splitting the values in the 'genres' column using commas as the delimiter.\n",
    "merged_data[\"genres\"] = merged_data[\"genres\"].str.split(\",\")\n",
    "\n",
    "# creating multiple rows for movies that have multiple genres.\n",
    "data = merged_data.explode(\"genres\")"
   ]
  },
  {
   "cell_type": "code",
   "execution_count": 64,
   "metadata": {
    "scrolled": true
   },
   "outputs": [
    {
     "data": {
      "text/html": [
       "<div>\n",
       "<style scoped>\n",
       "    .dataframe tbody tr th:only-of-type {\n",
       "        vertical-align: middle;\n",
       "    }\n",
       "\n",
       "    .dataframe tbody tr th {\n",
       "        vertical-align: top;\n",
       "    }\n",
       "\n",
       "    .dataframe thead th {\n",
       "        text-align: right;\n",
       "    }\n",
       "</style>\n",
       "<table border=\"1\" class=\"dataframe\">\n",
       "  <thead>\n",
       "    <tr style=\"text-align: right;\">\n",
       "      <th></th>\n",
       "      <th>movie</th>\n",
       "      <th>production_budget</th>\n",
       "      <th>worldwide_gross</th>\n",
       "      <th>ROI</th>\n",
       "      <th>studio</th>\n",
       "      <th>year</th>\n",
       "      <th>tconst</th>\n",
       "      <th>genres</th>\n",
       "    </tr>\n",
       "  </thead>\n",
       "  <tbody>\n",
       "    <tr>\n",
       "      <th>0</th>\n",
       "      <td>Pirates of the Caribbean: On Stranger Tides</td>\n",
       "      <td>410600000</td>\n",
       "      <td>1045663875</td>\n",
       "      <td>154.667286</td>\n",
       "      <td>BV</td>\n",
       "      <td>2011</td>\n",
       "      <td>tt1298650</td>\n",
       "      <td>Action</td>\n",
       "    </tr>\n",
       "    <tr>\n",
       "      <th>0</th>\n",
       "      <td>Pirates of the Caribbean: On Stranger Tides</td>\n",
       "      <td>410600000</td>\n",
       "      <td>1045663875</td>\n",
       "      <td>154.667286</td>\n",
       "      <td>BV</td>\n",
       "      <td>2011</td>\n",
       "      <td>tt1298650</td>\n",
       "      <td>Adventure</td>\n",
       "    </tr>\n",
       "  </tbody>\n",
       "</table>\n",
       "</div>"
      ],
      "text/plain": [
       "                                         movie  production_budget  \\\n",
       "0  Pirates of the Caribbean: On Stranger Tides          410600000   \n",
       "0  Pirates of the Caribbean: On Stranger Tides          410600000   \n",
       "\n",
       "   worldwide_gross         ROI studio  year     tconst     genres  \n",
       "0       1045663875  154.667286     BV  2011  tt1298650     Action  \n",
       "0       1045663875  154.667286     BV  2011  tt1298650  Adventure  "
      ]
     },
     "execution_count": 64,
     "metadata": {},
     "output_type": "execute_result"
    }
   ],
   "source": [
    "# Confirming the changes\n",
    "data.head(2)"
   ]
  },
  {
   "cell_type": "code",
   "execution_count": 65,
   "metadata": {
    "scrolled": false
   },
   "outputs": [
    {
     "data": {
      "image/png": "[encoded data removed]",
      "text/plain": [
       "<Figure size 1152x360 with 1 Axes>"
      ]
     },
     "metadata": {
      "needs_background": "light"
     },
     "output_type": "display_data"
    }
   ],
   "source": [
    "# Plotting the line graph.\n",
    "plt.figure(figsize= (16, 5))\n",
    "sns.lineplot(data= data.sort_values(\"genres\"), x= \"genres\", y= \"ROI\")\n",
    "plt.xlabel(\"Genre\")\n",
    "plt.xticks(rotation= 90)\n",
    "plt.ylabel(\"ROI\")\n",
    "plt.title(\"Genre Analysis by ROI\")\n",
    "plt.grid();"
   ]
  },
  {
   "cell_type": "markdown",
   "metadata": {},
   "source": [
    "* We can also do an analysis of the studios with the highest ROI, highest profit, and the genres produced by most of the studios."
   ]
  },
  {
   "cell_type": "code",
   "execution_count": 66,
   "metadata": {},
   "outputs": [
    {
     "data": {
      "text/html": [
       "<div>\n",
       "<style scoped>\n",
       "    .dataframe tbody tr th:only-of-type {\n",
       "        vertical-align: middle;\n",
       "    }\n",
       "\n",
       "    .dataframe tbody tr th {\n",
       "        vertical-align: top;\n",
       "    }\n",
       "\n",
       "    .dataframe thead th {\n",
       "        text-align: right;\n",
       "    }\n",
       "</style>\n",
       "<table border=\"1\" class=\"dataframe\">\n",
       "  <thead>\n",
       "    <tr style=\"text-align: right;\">\n",
       "      <th></th>\n",
       "      <th>studio</th>\n",
       "      <th>ROI</th>\n",
       "    </tr>\n",
       "  </thead>\n",
       "  <tbody>\n",
       "    <tr>\n",
       "      <th>0</th>\n",
       "      <td>3D</td>\n",
       "      <td>230.304060</td>\n",
       "    </tr>\n",
       "    <tr>\n",
       "      <th>1</th>\n",
       "      <td>A24</td>\n",
       "      <td>546.731047</td>\n",
       "    </tr>\n",
       "    <tr>\n",
       "      <th>2</th>\n",
       "      <td>Affirm</td>\n",
       "      <td>303.844830</td>\n",
       "    </tr>\n",
       "    <tr>\n",
       "      <th>3</th>\n",
       "      <td>Annapurna</td>\n",
       "      <td>33.923432</td>\n",
       "    </tr>\n",
       "    <tr>\n",
       "      <th>4</th>\n",
       "      <td>BG</td>\n",
       "      <td>187.222304</td>\n",
       "    </tr>\n",
       "  </tbody>\n",
       "</table>\n",
       "</div>"
      ],
      "text/plain": [
       "      studio         ROI\n",
       "0         3D  230.304060\n",
       "1        A24  546.731047\n",
       "2     Affirm  303.844830\n",
       "3  Annapurna   33.923432\n",
       "4         BG  187.222304"
      ]
     },
     "execution_count": 66,
     "metadata": {},
     "output_type": "execute_result"
    }
   ],
   "source": [
    "# Filtering to have positive ROIs only.\n",
    "positive_roi_df = merged_data[merged_data[\"ROI\"] > 0]\n",
    "\n",
    "# Grouping the dataframe by studio and calculating the average ROI.\n",
    "studio_roi = positive_roi_df.groupby(\"studio\")[\"ROI\"].mean().reset_index()\n",
    "studio_roi.head()"
   ]
  },
  {
   "cell_type": "code",
   "execution_count": 67,
   "metadata": {
    "scrolled": false
   },
   "outputs": [
    {
     "data": {
      "text/html": [
       "<div>\n",
       "<style scoped>\n",
       "    .dataframe tbody tr th:only-of-type {\n",
       "        vertical-align: middle;\n",
       "    }\n",
       "\n",
       "    .dataframe tbody tr th {\n",
       "        vertical-align: top;\n",
       "    }\n",
       "\n",
       "    .dataframe thead th {\n",
       "        text-align: right;\n",
       "    }\n",
       "</style>\n",
       "<table border=\"1\" class=\"dataframe\">\n",
       "  <thead>\n",
       "    <tr style=\"text-align: right;\">\n",
       "      <th></th>\n",
       "      <th>movie</th>\n",
       "      <th>production_budget</th>\n",
       "      <th>worldwide_gross</th>\n",
       "      <th>ROI</th>\n",
       "      <th>studio</th>\n",
       "      <th>year</th>\n",
       "      <th>tconst</th>\n",
       "      <th>genres</th>\n",
       "      <th>profit</th>\n",
       "    </tr>\n",
       "  </thead>\n",
       "  <tbody>\n",
       "    <tr>\n",
       "      <th>0</th>\n",
       "      <td>Pirates of the Caribbean: On Stranger Tides</td>\n",
       "      <td>410600000</td>\n",
       "      <td>1045663875</td>\n",
       "      <td>154.667286</td>\n",
       "      <td>BV</td>\n",
       "      <td>2011</td>\n",
       "      <td>tt1298650</td>\n",
       "      <td>Action</td>\n",
       "      <td>635063875</td>\n",
       "    </tr>\n",
       "    <tr>\n",
       "      <th>0</th>\n",
       "      <td>Pirates of the Caribbean: On Stranger Tides</td>\n",
       "      <td>410600000</td>\n",
       "      <td>1045663875</td>\n",
       "      <td>154.667286</td>\n",
       "      <td>BV</td>\n",
       "      <td>2011</td>\n",
       "      <td>tt1298650</td>\n",
       "      <td>Adventure</td>\n",
       "      <td>635063875</td>\n",
       "    </tr>\n",
       "    <tr>\n",
       "      <th>0</th>\n",
       "      <td>Pirates of the Caribbean: On Stranger Tides</td>\n",
       "      <td>410600000</td>\n",
       "      <td>1045663875</td>\n",
       "      <td>154.667286</td>\n",
       "      <td>BV</td>\n",
       "      <td>2011</td>\n",
       "      <td>tt1298650</td>\n",
       "      <td>Fantasy</td>\n",
       "      <td>635063875</td>\n",
       "    </tr>\n",
       "    <tr>\n",
       "      <th>1</th>\n",
       "      <td>Avengers: Age of Ultron</td>\n",
       "      <td>330600000</td>\n",
       "      <td>1403013963</td>\n",
       "      <td>324.384139</td>\n",
       "      <td>BV</td>\n",
       "      <td>2015</td>\n",
       "      <td>tt2395427</td>\n",
       "      <td>Action</td>\n",
       "      <td>1072413963</td>\n",
       "    </tr>\n",
       "    <tr>\n",
       "      <th>1</th>\n",
       "      <td>Avengers: Age of Ultron</td>\n",
       "      <td>330600000</td>\n",
       "      <td>1403013963</td>\n",
       "      <td>324.384139</td>\n",
       "      <td>BV</td>\n",
       "      <td>2015</td>\n",
       "      <td>tt2395427</td>\n",
       "      <td>Adventure</td>\n",
       "      <td>1072413963</td>\n",
       "    </tr>\n",
       "  </tbody>\n",
       "</table>\n",
       "</div>"
      ],
      "text/plain": [
       "                                         movie  production_budget  \\\n",
       "0  Pirates of the Caribbean: On Stranger Tides          410600000   \n",
       "0  Pirates of the Caribbean: On Stranger Tides          410600000   \n",
       "0  Pirates of the Caribbean: On Stranger Tides          410600000   \n",
       "1                      Avengers: Age of Ultron          330600000   \n",
       "1                      Avengers: Age of Ultron          330600000   \n",
       "\n",
       "   worldwide_gross         ROI studio  year     tconst     genres      profit  \n",
       "0       1045663875  154.667286     BV  2011  tt1298650     Action   635063875  \n",
       "0       1045663875  154.667286     BV  2011  tt1298650  Adventure   635063875  \n",
       "0       1045663875  154.667286     BV  2011  tt1298650    Fantasy   635063875  \n",
       "1       1403013963  324.384139     BV  2015  tt2395427     Action  1072413963  \n",
       "1       1403013963  324.384139     BV  2015  tt2395427  Adventure  1072413963  "
      ]
     },
     "execution_count": 67,
     "metadata": {},
     "output_type": "execute_result"
    }
   ],
   "source": [
    "#Calculating Profit and adding a new column\n",
    "data[\"profit\"] = data[\"worldwide_gross\"] - data[\"production_budget\"]\n",
    "sorted_profit = data.sort_values(\"profit\", ascending= False)\n",
    "\n",
    "# Filtering to have profits only.\n",
    "profit_df = data[data[\"profit\"] > 0]\n",
    "\n",
    "# Grouping the dataframe by studio and calculating the average profit.\n",
    "studio_profit = profit_df.groupby(\"studio\")[\"profit\"].mean().reset_index()\n",
    "profit_df.head()"
   ]
  },
  {
   "cell_type": "code",
   "execution_count": 68,
   "metadata": {
    "scrolled": true
   },
   "outputs": [
    {
     "data": {
      "image/png": "[encoded data removed]",
      "text/plain": [
       "<Figure size 864x288 with 2 Axes>"
      ]
     },
     "metadata": {
      "needs_background": "light"
     },
     "output_type": "display_data"
    }
   ],
   "source": [
    "# Sorting the data frame by ROI in descending order\n",
    "studio_roi = studio_roi.sort_values(\"ROI\", ascending=False)\n",
    "\n",
    "# Counting the most popular genre for each studio\n",
    "studio_genre_count = data.groupby(\"studio\")[\"genres\"].apply(lambda x: x.value_counts().idxmax()).reset_index()\n",
    "studio_genre_count.rename(columns= {\"genres\": \"most_popular_genre\"}, inplace= True)\n",
    "\n",
    "# Creating subplots \n",
    "fig, axes = plt.subplots(1, 2, figsize= (12, 4))\n",
    "\n",
    "# Studio Analysis by Positive ROI\n",
    "sns.barplot(data=studio_roi[:10], x= \"ROI\", y= \"studio\", order=studio_roi[:10][\"studio\"], ax=axes[0], color= \"violet\")\n",
    "axes[0].set_xlabel(\"ROI\")\n",
    "axes[0].set_ylabel(\"Studio\")\n",
    "axes[0].set_title(\"Studio Analysis by ROI\")\n",
    "axes[0].grid()\n",
    "\n",
    "# Sorting the data by profit in descending order\n",
    "studio_profit = studio_profit.sort_values(\"profit\", ascending= False)\n",
    "\n",
    "# Studio Analysis by Profit\n",
    "sns.barplot(data= studio_profit[:10], x= \"profit\", y= \"studio\", order=studio_profit[:10][\"studio\"], color= \"green\")\n",
    "axes[1].set_xlabel(\"Profit\")\n",
    "axes[1].set_ylabel(\"Studio\")\n",
    "axes[1].set_title(\"Studio Analysis by Profit\")\n",
    "axes[1].grid()\n",
    "\n",
    "plt.tight_layout()"
   ]
  },
  {
   "cell_type": "code",
   "execution_count": 69,
   "metadata": {},
   "outputs": [
    {
     "data": {
      "image/png": "[encoded data removed]",
      "text/plain": [
       "<Figure size 864x432 with 1 Axes>"
      ]
     },
     "metadata": {
      "needs_background": "light"
     },
     "output_type": "display_data"
    }
   ],
   "source": [
    "# Counting the number of studios producing each genre\n",
    "genre_studio_count = data.groupby(\"genres\")[\"studio\"].nunique().reset_index()\n",
    "genre_studio_count.rename(columns= {\"studio\": \"num_studios\"}, inplace= True)\n",
    "\n",
    "# Sorting the genres by the number of studios in descending order\n",
    "genre_studio_count = genre_studio_count.sort_values(\"num_studios\", ascending= False)\n",
    "\n",
    "# plotting bar graph for Genres and Number of Studios\n",
    "plt.figure(figsize=(12, 6))\n",
    "sns.barplot(data= genre_studio_count[:10], x= \"num_studios\", y= \"genres\", palette= \"inferno\")\n",
    "plt.xlabel(\"Number of Studios\")\n",
    "plt.ylabel(\"Genres\")\n",
    "plt.title(\"Genres and Number of Studios Producing the Genres\")\n",
    "plt.xticks()\n",
    "plt.grid(True)"
   ]
  },
  {
   "cell_type": "markdown",
   "metadata": {},
   "source": [
    "* Next we can do an analysis of the genres and their production_budget, worldwide_gross, ROI and profits. "
   ]
  },
  {
   "cell_type": "code",
   "execution_count": 70,
   "metadata": {},
   "outputs": [
    {
     "data": {
      "image/png": "[encoded data removed]",
      "text/plain": [
       "<Figure size 1296x432 with 3 Axes>"
      ]
     },
     "metadata": {
      "needs_background": "light"
     },
     "output_type": "display_data"
    }
   ],
   "source": [
    "# Sorting the data frame by production_budget in descending order\n",
    "sorted_data1 = data.sort_values(\"production_budget\", ascending= False)\n",
    "\n",
    "# Creating subplots with 1 row and 3 columns\n",
    "fig, axes = plt.subplots(1, 3, figsize= (18, 6))\n",
    "\n",
    "# Genre and Production Budget\n",
    "axes[0].bar(sorted_data1[\"genres\"][:30], sorted_data1[\"production_budget\"][:30], color= \"pink\")\n",
    "axes[0].set_xlabel(\"Genre\")\n",
    "axes[0].set_ylabel(\"Production Budget\")\n",
    "axes[0].set_title(\"Genre vs Production Budget\")\n",
    "\n",
    "# Sorting the data frame by worldwide_gross in descending order\n",
    "sorted_data2 = data.sort_values(\"worldwide_gross\", ascending= False)\n",
    "\n",
    "# Genre and Worldwide Gross\n",
    "axes[1].bar(sorted_data2[\"genres\"][:20], sorted_data2[\"worldwide_gross\"][:20], color= \"orange\")\n",
    "axes[1].set_xlabel(\"Genre\")\n",
    "axes[1].set_ylabel(\"Worldwide Gross\")\n",
    "axes[1].set_title(\"Genre vs Worldwide Gross\")\n",
    "\n",
    "# Sorting the data frame by ROI in descending order\n",
    "sorted_data3 = data.sort_values(\"ROI\", ascending= False)\n",
    "\n",
    "# Genre and ROI\n",
    "axes[2].bar(sorted_data3[\"genres\"][:15], sorted_data3[\"ROI\"][:15], color= \"skyblue\")\n",
    "axes[2].set_xlabel(\"Genre\")\n",
    "axes[2].set_ylabel(\"ROI\")\n",
    "axes[2].set_title(\"Genre vs ROI\")\n",
    "\n",
    "plt.tight_layout();"
   ]
  },
  {
   "cell_type": "code",
   "execution_count": 71,
   "metadata": {
    "scrolled": false
   },
   "outputs": [
    {
     "data": {
      "image/png": "[encoded data removed]",
      "text/plain": [
       "<Figure size 1152x288 with 1 Axes>"
      ]
     },
     "metadata": {
      "needs_background": "light"
     },
     "output_type": "display_data"
    }
   ],
   "source": [
    "# Visualization- Genre vs Profit\n",
    "plt.figure(figsize=(16, 4))\n",
    "\n",
    "plt.bar(sorted_profit[\"genres\"], sorted_profit[\"profit\"], bottom= 0, color= \"purple\")\n",
    "plt.xlabel(\"Genre\")\n",
    "plt.xticks(rotation= 90)\n",
    "plt.ylabel(\"Profit\")\n",
    "plt.title(\"Genre vs Profit\")\n",
    "plt.ylim(bottom= 0)\n",
    "plt.grid()\n",
    "plt.show();"
   ]
  },
  {
   "cell_type": "markdown",
   "metadata": {},
   "source": [
    "#### Merging \"title_crew\" and \"data\" data frames to Identify directors with the most successfull movies."
   ]
  },
  {
   "cell_type": "code",
   "execution_count": 72,
   "metadata": {},
   "outputs": [],
   "source": [
    "# Merging the data df and title_crew dataframes.\n",
    "director_data = data.merge(title_crew, on= \"tconst\", how= \"left\")"
   ]
  },
  {
   "cell_type": "code",
   "execution_count": 73,
   "metadata": {
    "scrolled": true
   },
   "outputs": [
    {
     "data": {
      "text/html": [
       "<div>\n",
       "<style scoped>\n",
       "    .dataframe tbody tr th:only-of-type {\n",
       "        vertical-align: middle;\n",
       "    }\n",
       "\n",
       "    .dataframe tbody tr th {\n",
       "        vertical-align: top;\n",
       "    }\n",
       "\n",
       "    .dataframe thead th {\n",
       "        text-align: right;\n",
       "    }\n",
       "</style>\n",
       "<table border=\"1\" class=\"dataframe\">\n",
       "  <thead>\n",
       "    <tr style=\"text-align: right;\">\n",
       "      <th></th>\n",
       "      <th>movie</th>\n",
       "      <th>production_budget</th>\n",
       "      <th>worldwide_gross</th>\n",
       "      <th>ROI</th>\n",
       "      <th>studio</th>\n",
       "      <th>year</th>\n",
       "      <th>tconst</th>\n",
       "      <th>genres</th>\n",
       "      <th>profit</th>\n",
       "      <th>directors</th>\n",
       "      <th>writers</th>\n",
       "    </tr>\n",
       "  </thead>\n",
       "  <tbody>\n",
       "    <tr>\n",
       "      <th>0</th>\n",
       "      <td>Pirates of the Caribbean: On Stranger Tides</td>\n",
       "      <td>410600000</td>\n",
       "      <td>1045663875</td>\n",
       "      <td>154.667286</td>\n",
       "      <td>BV</td>\n",
       "      <td>2011</td>\n",
       "      <td>tt1298650</td>\n",
       "      <td>Action</td>\n",
       "      <td>635063875</td>\n",
       "      <td>nm0551128</td>\n",
       "      <td>nm0254645,nm0744429,nm0064181,nm0938684,nm0694627</td>\n",
       "    </tr>\n",
       "    <tr>\n",
       "      <th>1</th>\n",
       "      <td>Pirates of the Caribbean: On Stranger Tides</td>\n",
       "      <td>410600000</td>\n",
       "      <td>1045663875</td>\n",
       "      <td>154.667286</td>\n",
       "      <td>BV</td>\n",
       "      <td>2011</td>\n",
       "      <td>tt1298650</td>\n",
       "      <td>Adventure</td>\n",
       "      <td>635063875</td>\n",
       "      <td>nm0551128</td>\n",
       "      <td>nm0254645,nm0744429,nm0064181,nm0938684,nm0694627</td>\n",
       "    </tr>\n",
       "  </tbody>\n",
       "</table>\n",
       "</div>"
      ],
      "text/plain": [
       "                                         movie  production_budget  \\\n",
       "0  Pirates of the Caribbean: On Stranger Tides          410600000   \n",
       "1  Pirates of the Caribbean: On Stranger Tides          410600000   \n",
       "\n",
       "   worldwide_gross         ROI studio  year     tconst     genres     profit  \\\n",
       "0       1045663875  154.667286     BV  2011  tt1298650     Action  635063875   \n",
       "1       1045663875  154.667286     BV  2011  tt1298650  Adventure  635063875   \n",
       "\n",
       "   directors                                            writers  \n",
       "0  nm0551128  nm0254645,nm0744429,nm0064181,nm0938684,nm0694627  \n",
       "1  nm0551128  nm0254645,nm0744429,nm0064181,nm0938684,nm0694627  "
      ]
     },
     "execution_count": 73,
     "metadata": {},
     "output_type": "execute_result"
    }
   ],
   "source": [
    "# Confirming the chenges.\n",
    "director_data.head(2)"
   ]
  },
  {
   "cell_type": "markdown",
   "metadata": {},
   "source": [
    "We now drop the writers column since we don't need it for our analysis. "
   ]
  },
  {
   "cell_type": "code",
   "execution_count": 74,
   "metadata": {
    "scrolled": true
   },
   "outputs": [
    {
     "data": {
      "text/html": [
       "<div>\n",
       "<style scoped>\n",
       "    .dataframe tbody tr th:only-of-type {\n",
       "        vertical-align: middle;\n",
       "    }\n",
       "\n",
       "    .dataframe tbody tr th {\n",
       "        vertical-align: top;\n",
       "    }\n",
       "\n",
       "    .dataframe thead th {\n",
       "        text-align: right;\n",
       "    }\n",
       "</style>\n",
       "<table border=\"1\" class=\"dataframe\">\n",
       "  <thead>\n",
       "    <tr style=\"text-align: right;\">\n",
       "      <th></th>\n",
       "      <th>movie</th>\n",
       "      <th>production_budget</th>\n",
       "      <th>worldwide_gross</th>\n",
       "      <th>ROI</th>\n",
       "      <th>studio</th>\n",
       "      <th>year</th>\n",
       "      <th>tconst</th>\n",
       "      <th>genres</th>\n",
       "      <th>profit</th>\n",
       "      <th>directors</th>\n",
       "    </tr>\n",
       "  </thead>\n",
       "  <tbody>\n",
       "    <tr>\n",
       "      <th>0</th>\n",
       "      <td>Pirates of the Caribbean: On Stranger Tides</td>\n",
       "      <td>410600000</td>\n",
       "      <td>1045663875</td>\n",
       "      <td>154.667286</td>\n",
       "      <td>BV</td>\n",
       "      <td>2011</td>\n",
       "      <td>tt1298650</td>\n",
       "      <td>Action</td>\n",
       "      <td>635063875</td>\n",
       "      <td>nm0551128</td>\n",
       "    </tr>\n",
       "    <tr>\n",
       "      <th>1</th>\n",
       "      <td>Pirates of the Caribbean: On Stranger Tides</td>\n",
       "      <td>410600000</td>\n",
       "      <td>1045663875</td>\n",
       "      <td>154.667286</td>\n",
       "      <td>BV</td>\n",
       "      <td>2011</td>\n",
       "      <td>tt1298650</td>\n",
       "      <td>Adventure</td>\n",
       "      <td>635063875</td>\n",
       "      <td>nm0551128</td>\n",
       "    </tr>\n",
       "  </tbody>\n",
       "</table>\n",
       "</div>"
      ],
      "text/plain": [
       "                                         movie  production_budget  \\\n",
       "0  Pirates of the Caribbean: On Stranger Tides          410600000   \n",
       "1  Pirates of the Caribbean: On Stranger Tides          410600000   \n",
       "\n",
       "   worldwide_gross         ROI studio  year     tconst     genres     profit  \\\n",
       "0       1045663875  154.667286     BV  2011  tt1298650     Action  635063875   \n",
       "1       1045663875  154.667286     BV  2011  tt1298650  Adventure  635063875   \n",
       "\n",
       "   directors  \n",
       "0  nm0551128  \n",
       "1  nm0551128  "
      ]
     },
     "execution_count": 74,
     "metadata": {},
     "output_type": "execute_result"
    }
   ],
   "source": [
    "# Dropping the writers column.\n",
    "director_data= director_data.drop(\"writers\", axis= 1)\n",
    "\n",
    "# Confirming the merge.\n",
    "director_data.head(2)"
   ]
  },
  {
   "cell_type": "code",
   "execution_count": 75,
   "metadata": {},
   "outputs": [
    {
     "name": "stdout",
     "output_type": "stream",
     "text": [
      "<class 'pandas.core.frame.DataFrame'>\n",
      "Int64Index: 3694 entries, 0 to 3693\n",
      "Data columns (total 10 columns):\n",
      " #   Column             Non-Null Count  Dtype  \n",
      "---  ------             --------------  -----  \n",
      " 0   movie              3694 non-null   object \n",
      " 1   production_budget  3694 non-null   int64  \n",
      " 2   worldwide_gross    3694 non-null   int64  \n",
      " 3   ROI                3694 non-null   float64\n",
      " 4   studio             3694 non-null   object \n",
      " 5   year               3694 non-null   int64  \n",
      " 6   tconst             3694 non-null   object \n",
      " 7   genres             3694 non-null   object \n",
      " 8   profit             3694 non-null   int64  \n",
      " 9   directors          3673 non-null   object \n",
      "dtypes: float64(1), int64(4), object(5)\n",
      "memory usage: 317.5+ KB\n"
     ]
    }
   ],
   "source": [
    "# Checking for missing values.\n",
    "director_data.info()"
   ]
  },
  {
   "cell_type": "code",
   "execution_count": 76,
   "metadata": {
    "scrolled": true
   },
   "outputs": [
    {
     "data": {
      "text/plain": [
       "movie                0\n",
       "production_budget    0\n",
       "worldwide_gross      0\n",
       "ROI                  0\n",
       "studio               0\n",
       "year                 0\n",
       "tconst               0\n",
       "genres               0\n",
       "profit               0\n",
       "directors            0\n",
       "dtype: int64"
      ]
     },
     "execution_count": 76,
     "metadata": {},
     "output_type": "execute_result"
    }
   ],
   "source": [
    "# Dropping the missing values from the directors column.\n",
    "director_data.dropna(subset= [\"directors\"], inplace= True)\n",
    "director_data.isna().sum()"
   ]
  },
  {
   "cell_type": "markdown",
   "metadata": {},
   "source": [
    "* Now that we have the new dataframe now has the directors codes.\n",
    "* We can merge it with the \"name_basics\" dataframe to get the directors names."
   ]
  },
  {
   "cell_type": "code",
   "execution_count": 77,
   "metadata": {},
   "outputs": [
    {
     "data": {
      "text/html": [
       "<div>\n",
       "<style scoped>\n",
       "    .dataframe tbody tr th:only-of-type {\n",
       "        vertical-align: middle;\n",
       "    }\n",
       "\n",
       "    .dataframe tbody tr th {\n",
       "        vertical-align: top;\n",
       "    }\n",
       "\n",
       "    .dataframe thead th {\n",
       "        text-align: right;\n",
       "    }\n",
       "</style>\n",
       "<table border=\"1\" class=\"dataframe\">\n",
       "  <thead>\n",
       "    <tr style=\"text-align: right;\">\n",
       "      <th></th>\n",
       "      <th>movie</th>\n",
       "      <th>production_budget</th>\n",
       "      <th>worldwide_gross</th>\n",
       "      <th>ROI</th>\n",
       "      <th>studio</th>\n",
       "      <th>year</th>\n",
       "      <th>tconst</th>\n",
       "      <th>genres</th>\n",
       "      <th>profit</th>\n",
       "      <th>nconst</th>\n",
       "      <th>directors</th>\n",
       "      <th>primary_profession</th>\n",
       "      <th>known_for_titles</th>\n",
       "    </tr>\n",
       "  </thead>\n",
       "  <tbody>\n",
       "    <tr>\n",
       "      <th>0</th>\n",
       "      <td>Pirates of the Caribbean: On Stranger Tides</td>\n",
       "      <td>410600000</td>\n",
       "      <td>1045663875</td>\n",
       "      <td>154.667286</td>\n",
       "      <td>BV</td>\n",
       "      <td>2011</td>\n",
       "      <td>tt1298650</td>\n",
       "      <td>Action</td>\n",
       "      <td>635063875</td>\n",
       "      <td>nm0551128</td>\n",
       "      <td>Rob Marshall</td>\n",
       "      <td>director,miscellaneous,producer</td>\n",
       "      <td>tt2180411,tt0299658,tt0875034,tt5028340</td>\n",
       "    </tr>\n",
       "    <tr>\n",
       "      <th>1</th>\n",
       "      <td>Pirates of the Caribbean: On Stranger Tides</td>\n",
       "      <td>410600000</td>\n",
       "      <td>1045663875</td>\n",
       "      <td>154.667286</td>\n",
       "      <td>BV</td>\n",
       "      <td>2011</td>\n",
       "      <td>tt1298650</td>\n",
       "      <td>Adventure</td>\n",
       "      <td>635063875</td>\n",
       "      <td>nm0551128</td>\n",
       "      <td>Rob Marshall</td>\n",
       "      <td>director,miscellaneous,producer</td>\n",
       "      <td>tt2180411,tt0299658,tt0875034,tt5028340</td>\n",
       "    </tr>\n",
       "  </tbody>\n",
       "</table>\n",
       "</div>"
      ],
      "text/plain": [
       "                                         movie  production_budget  \\\n",
       "0  Pirates of the Caribbean: On Stranger Tides          410600000   \n",
       "1  Pirates of the Caribbean: On Stranger Tides          410600000   \n",
       "\n",
       "   worldwide_gross         ROI studio  year     tconst     genres     profit  \\\n",
       "0       1045663875  154.667286     BV  2011  tt1298650     Action  635063875   \n",
       "1       1045663875  154.667286     BV  2011  tt1298650  Adventure  635063875   \n",
       "\n",
       "      nconst     directors               primary_profession  \\\n",
       "0  nm0551128  Rob Marshall  director,miscellaneous,producer   \n",
       "1  nm0551128  Rob Marshall  director,miscellaneous,producer   \n",
       "\n",
       "                          known_for_titles  \n",
       "0  tt2180411,tt0299658,tt0875034,tt5028340  \n",
       "1  tt2180411,tt0299658,tt0875034,tt5028340  "
      ]
     },
     "execution_count": 77,
     "metadata": {},
     "output_type": "execute_result"
    }
   ],
   "source": [
    "# Renaming the directors column to \"nconst\"\n",
    "director_data = director_data.rename(columns= {\"directors\": \"nconst\"})\n",
    "name_basics = name_basics.rename(columns= {\"primary_name\": \"directors\"})\n",
    "\n",
    "# Joining the \"director_data\" to \"name_basics\" so that we can get the directors names\n",
    "director_names = director_data.merge(name_basics, on= \"nconst\", how= \"left\")\n",
    "director_names.head(2)"
   ]
  },
  {
   "cell_type": "code",
   "execution_count": 78,
   "metadata": {},
   "outputs": [],
   "source": [
    "director_names.dropna(subset= [\"directors\"], inplace= True)"
   ]
  },
  {
   "cell_type": "code",
   "execution_count": 79,
   "metadata": {
    "scrolled": true
   },
   "outputs": [
    {
     "data": {
      "text/html": [
       "<div>\n",
       "<style scoped>\n",
       "    .dataframe tbody tr th:only-of-type {\n",
       "        vertical-align: middle;\n",
       "    }\n",
       "\n",
       "    .dataframe tbody tr th {\n",
       "        vertical-align: top;\n",
       "    }\n",
       "\n",
       "    .dataframe thead th {\n",
       "        text-align: right;\n",
       "    }\n",
       "</style>\n",
       "<table border=\"1\" class=\"dataframe\">\n",
       "  <thead>\n",
       "    <tr style=\"text-align: right;\">\n",
       "      <th></th>\n",
       "      <th>movie</th>\n",
       "      <th>production_budget</th>\n",
       "      <th>worldwide_gross</th>\n",
       "      <th>ROI</th>\n",
       "      <th>studio</th>\n",
       "      <th>year</th>\n",
       "      <th>tconst</th>\n",
       "      <th>genres</th>\n",
       "      <th>profit</th>\n",
       "      <th>nconst</th>\n",
       "      <th>directors</th>\n",
       "    </tr>\n",
       "  </thead>\n",
       "  <tbody>\n",
       "    <tr>\n",
       "      <th>0</th>\n",
       "      <td>Pirates of the Caribbean: On Stranger Tides</td>\n",
       "      <td>410600000</td>\n",
       "      <td>1045663875</td>\n",
       "      <td>154.667286</td>\n",
       "      <td>BV</td>\n",
       "      <td>2011</td>\n",
       "      <td>tt1298650</td>\n",
       "      <td>Action</td>\n",
       "      <td>635063875</td>\n",
       "      <td>nm0551128</td>\n",
       "      <td>Rob Marshall</td>\n",
       "    </tr>\n",
       "    <tr>\n",
       "      <th>1</th>\n",
       "      <td>Pirates of the Caribbean: On Stranger Tides</td>\n",
       "      <td>410600000</td>\n",
       "      <td>1045663875</td>\n",
       "      <td>154.667286</td>\n",
       "      <td>BV</td>\n",
       "      <td>2011</td>\n",
       "      <td>tt1298650</td>\n",
       "      <td>Adventure</td>\n",
       "      <td>635063875</td>\n",
       "      <td>nm0551128</td>\n",
       "      <td>Rob Marshall</td>\n",
       "    </tr>\n",
       "  </tbody>\n",
       "</table>\n",
       "</div>"
      ],
      "text/plain": [
       "                                         movie  production_budget  \\\n",
       "0  Pirates of the Caribbean: On Stranger Tides          410600000   \n",
       "1  Pirates of the Caribbean: On Stranger Tides          410600000   \n",
       "\n",
       "   worldwide_gross         ROI studio  year     tconst     genres     profit  \\\n",
       "0       1045663875  154.667286     BV  2011  tt1298650     Action  635063875   \n",
       "1       1045663875  154.667286     BV  2011  tt1298650  Adventure  635063875   \n",
       "\n",
       "      nconst     directors  \n",
       "0  nm0551128  Rob Marshall  \n",
       "1  nm0551128  Rob Marshall  "
      ]
     },
     "execution_count": 79,
     "metadata": {},
     "output_type": "execute_result"
    }
   ],
   "source": [
    "colums = [\"primary_profession\", \"known_for_titles\"]\n",
    "director_names= director_names.drop(colums, axis= 1)\n",
    "director_names.head(2)"
   ]
  },
  {
   "cell_type": "code",
   "execution_count": 80,
   "metadata": {
    "scrolled": false
   },
   "outputs": [
    {
     "data": {
      "image/png": "[encoded data removed]",
      "text/plain": [
       "<Figure size 432x288 with 1 Axes>"
      ]
     },
     "metadata": {
      "needs_background": "light"
     },
     "output_type": "display_data"
    }
   ],
   "source": [
    "# Create a scatter plot\n",
    "sns.scatterplot(x= \"production_budget\", y= \"profit\" , data= director_names, color= \"green\", alpha= 0.9)\n",
    "\n",
    "# Set the x-axis, y-axis labels, and title\n",
    "plt.xlabel(\"Production Budget\")\n",
    "plt.ylabel(\"Profit\")\n",
    "plt.title(\"Corr Analysis Production Budget vs Profit\");"
   ]
  },
  {
   "cell_type": "code",
   "execution_count": 81,
   "metadata": {},
   "outputs": [
    {
     "data": {
      "image/png": "[encoded data removed]",
      "text/plain": [
       "<Figure size 432x288 with 2 Axes>"
      ]
     },
     "metadata": {
      "needs_background": "light"
     },
     "output_type": "display_data"
    }
   ],
   "source": [
    "sns.heatmap(director_names.corr(), annot=True, cmap=\"coolwarm\")\n",
    "plt.title(\"Correlation Heatmap: director_names\");"
   ]
  },
  {
   "cell_type": "markdown",
   "metadata": {},
   "source": [
    "#### With this data, we can do an analysis to find the directors with the most profitable movies"
   ]
  },
  {
   "cell_type": "code",
   "execution_count": 82,
   "metadata": {
    "scrolled": true
   },
   "outputs": [
    {
     "data": {
      "image/png": "[encoded data removed]",
      "text/plain": [
       "<Figure size 1152x360 with 1 Axes>"
      ]
     },
     "metadata": {
      "needs_background": "light"
     },
     "output_type": "display_data"
    }
   ],
   "source": [
    "# Grouping the data by directors and calculating the total profit\n",
    "director_profit = director_names.groupby(\"directors\")[\"profit\"].sum().reset_index()\n",
    "\n",
    "# Sorting the data by total profit in descending order\n",
    "director_profit = director_profit.sort_values(\"profit\", ascending= False)\n",
    "\n",
    "# Plotting the directors and total profit bargraph\n",
    "plt.figure(figsize= (16, 5))\n",
    "sns.barplot(data= director_profit[:15], x= \"profit\", y= \"directors\", palette= \"Set2\")\n",
    "plt.xlabel(\"Total Profit\")\n",
    "plt.ylabel(\"Directors\")\n",
    "plt.title(\"Directors with the Most Profitable Movies\")\n",
    "plt.grid()\n",
    "plt.show()"
   ]
  },
  {
   "cell_type": "markdown",
   "metadata": {},
   "source": [
    "## Analysis Findings from our data."
   ]
  },
  {
   "cell_type": "markdown",
   "metadata": {},
   "source": [
    "* The genres with the highest ROI, include \"Horror\", \"Thriller\", \"Mystrey\" and  \"Comedy\".\n",
    "* The genres that had the highest worldwide_gross and make the highest profits are \"Action\", \"Adventure\", \"SCi-Fi\", \"Thriller\" and \"Crime\".\n",
    "* The genres that have the highest production budgets are \"Action\", \"Fantasy\", \"Adventure\", \"Sci-Fi\" and \"Thriller\".\n",
    "* The studios that had the most profitable movies are \"P/DW\" , \"BV\" , \"Grtindia\", \"Uni\" and \"UTV\".\n",
    "* The studios that made movies with the highest ROI are: \"UTV\" , \"WB(NL)\", \"ParV\", \"FD\" and \"Uni\".\n",
    "* There was a drastic drop in the number of movie releases from 2018 to 2020.\n",
    "* The most popular genres among the studios are \"Drama\", \"Comedy\", \"Action\", \"Crime\" and \"Thriller\" \n",
    "* The directors with the most profitable movies were \"James Wan\", \"Michael Bay\", \"Christopher Nolan\", \"Francis Lawrence\" and \"Bryan Singer\""
   ]
  },
  {
   "cell_type": "markdown",
   "metadata": {},
   "source": [
    "# Conclusions"
   ]
  },
  {
   "cell_type": "markdown",
   "metadata": {},
   "source": [
    "* Like many other businesses, there Covid 19 Pandemic affected the entertainmaint industrie and movie production companies.\n",
    "* The \"Action\" and \"Thriller\" genres are quite popular among the studios. Even though they are among the genres with the highest production budgets, they are also among the genres that are most profitable.\n",
    "* \"Adventure\", and \"sci-Fi\" also tend to make high profits even though they also have high production budgets.\n",
    "* \"Horror\", \"Mystrey\" and \"Comedy\" genres offer the highest ROI- This could be attributed to the lower production budgets.\n",
    "* \"Thriller\" genre however seems to be a winner as even with the high production budgets, the genre tends to have high profits and ROI.\n",
    "* \"WB\", \"UTV\", \"Uni\", \"Grtindia\" and \"Par\" studios seem to be successful as they trend to make profits and have high ROI on their movie productions.\n",
    "* Most profitable studios are P/DW(Pixar and DreamWorks) and BV(Buena Vista)a distribution brand and subsidiary of The Walt Disney Studios, which after further research discovered the primary genres are \"animations\" \n"
   ]
  },
  {
   "cell_type": "markdown",
   "metadata": {},
   "source": [
    "# Recommendations.\n",
    "\n",
    "From the analysis and conclusions, we now have a better understanding of the business landscape that Microsoft wants to venture into. Here are my recommendations for the Head of Microsoft studios."
   ]
  },
  {
   "cell_type": "markdown",
   "metadata": {},
   "source": [
    "#### 1. Winning Genres:\n",
    "Microsoft Should work to develop more movies in \"Action\", \"Thriller\", \"Adventure\" and \"Sci-Fi\" genres or a blend of the genres as they tend to have been the most profitable over the years."
   ]
  },
  {
   "cell_type": "markdown",
   "metadata": {},
   "source": [
    "#### 2. Budget allocation\n",
    "Microsoft should allocate higher production budgets to the \"Action\", \"Sci-Fi\", \"Thriller\" and  \"Adventure\" genres to maximize on the production quality as they have the the most profitable genres over the years.\n",
    "Lower budgets to be allocated to the \"Horror\" and \"Mystery\" genres. Even though the have the highest ROI, they tend to have a niche audience."
   ]
  },
  {
   "cell_type": "markdown",
   "metadata": {},
   "source": [
    "#### 3. Opportunities to tap into\n",
    "With Walt Disney, Pixar and Dreamworks being the most profitable studios, Their primary genre production is \"Animations\" \n",
    "There lies an oppurtunity for Microsoft to tap into the success of the genre as it tends to have a wide target audience.\n",
    "#### 4. Directors \n",
    "Microsoft already being a successful reputable company, Colaborating with the the directors with the most profitable movies on their respective prefered genres will bring more credibility and buzz around the movies before the release.\n",
    "#### 5. Market Penetration\n",
    "With the drastic drop in movie production from 2018, Microsoft should consider diversifying the strategy to include a subscription based Movie streaming platform to satisfy the current consumer behavior preference.\n",
    "\n",
    "Instead of coming in to compete with the already successful studios in the industry. Having a streaming platform will offer an opportunity to partner with the other studios to have their movies on the platform and could also be exlusive releases for Microsoft Studio movies."
   ]
  },
  {
   "cell_type": "markdown",
   "metadata": {},
   "source": [
    "# Next Steps\n",
    "* Deeper analysis on Walt Disney and Dreamworks strategies should be done on the genre types and quality of the animation movies before getting into the production. \n",
    "* Proactive analysis of the industry landscape to mitigate any potential risks or tap into new technologies and opportunities.\n",
    "* Microsoft should also do research on the already existing movie streaming platforms to understand the landscape. Getting to incorporate machine learning algorithms on the platform would be essensial in order to offer the audience a bespoke experience. This would further go to inform future strategies in movie production as it will be Microsoft's first party data to consumer preferences.\n"
   ]
  }
 ],
 "metadata": {
  "kernelspec": {
   "display_name": "Python 3",
   "language": "python",
   "name": "python3"
  },
  "language_info": {
   "codemirror_mode": {
    "name": "ipython",
    "version": 3
   },
   "file_extension": ".py",
   "mimetype": "text/x-python",
   "name": "python",
   "nbconvert_exporter": "python",
   "pygments_lexer": "ipython3",
   "version": "3.8.5"
  }
 },
 "nbformat": 4,
 "nbformat_minor": 2
}
